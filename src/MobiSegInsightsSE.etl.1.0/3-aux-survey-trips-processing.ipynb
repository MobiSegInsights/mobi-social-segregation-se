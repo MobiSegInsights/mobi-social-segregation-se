{
 "cells": [
  {
   "cell_type": "markdown",
   "metadata": {
    "collapsed": true,
    "pycharm": {
     "name": "#%% md\n"
    }
   },
   "source": [
    "# Covert trips into activities and create commuting matrices\n",
    "1. Check typical trip chains of the travel survey.\n",
    "2. Design filters for preparing the data for activities.\n",
    "3. Extract activities from trip chains."
   ]
  },
  {
   "cell_type": "code",
   "execution_count": 1,
   "outputs": [
    {
     "name": "stdout",
     "output_type": "stream",
     "text": [
      "D:\\mobi-social-segregation-se\n"
     ]
    }
   ],
   "source": [
    "%load_ext autoreload\n",
    "%autoreload 2\n",
    "%cd D:\\mobi-social-segregation-se"
   ],
   "metadata": {
    "collapsed": false,
    "pycharm": {
     "name": "#%%\n"
    }
   }
  },
  {
   "cell_type": "code",
   "execution_count": 2,
   "outputs": [],
   "source": [
    "import pandas as pd\n",
    "import numpy as np\n",
    "from datetime import datetime\n",
    "import datetime as dt\n",
    "from tqdm import tqdm"
   ],
   "metadata": {
    "collapsed": false,
    "pycharm": {
     "name": "#%%\n"
    }
   }
  },
  {
   "cell_type": "code",
   "execution_count": 3,
   "outputs": [
    {
     "name": "stdout",
     "output_type": "stream",
     "text": [
      "38258\n"
     ]
    }
   ],
   "source": [
    "df = pd.read_csv(\"dbs/survey/day_trips.csv\", encoding=\"latin-1\")\n",
    "df = df.drop_duplicates(subset=['sub_id', 'trip_id', 'trip_main_id'])\n",
    "df = df.loc[:, [\"sub_id\", \"date\", 'trip_id', \"trip_main_id\", 'purpose_main', 'purpose', 'origin_main_time', 'desti_main_time', 'origin_main_deso',  'desti_main_deso', 'trip_main_mode']]\n",
    "df = df.sort_values(by=['sub_id', 'trip_id', 'trip_main_id'])\n",
    "print(df.sub_id.nunique())"
   ],
   "metadata": {
    "collapsed": false,
    "pycharm": {
     "name": "#%%\n"
    }
   }
  },
  {
   "cell_type": "markdown",
   "source": [
    "Drop those participants with incomplete information."
   ],
   "metadata": {
    "collapsed": false,
    "pycharm": {
     "name": "#%% md\n"
    }
   }
  },
  {
   "cell_type": "code",
   "execution_count": 4,
   "outputs": [],
   "source": [
    "def completeness_check(data):\n",
    "    if data.isnull().values.any():\n",
    "        return pd.Series({'complt': 0})\n",
    "    return pd.Series({'complt': 1})"
   ],
   "metadata": {
    "collapsed": false,
    "pycharm": {
     "name": "#%%\n"
    }
   }
  },
  {
   "cell_type": "code",
   "execution_count": 5,
   "outputs": [
    {
     "name": "stderr",
     "output_type": "stream",
     "text": [
      "100%|██████████| 38258/38258 [00:21<00:00, 1753.96it/s]\n"
     ]
    }
   ],
   "source": [
    "tqdm.pandas()\n",
    "df_complt = df.groupby(\"sub_id\").progress_apply(completeness_check).reset_index()"
   ],
   "metadata": {
    "collapsed": false,
    "pycharm": {
     "name": "#%%\n"
    }
   }
  },
  {
   "cell_type": "code",
   "execution_count": 6,
   "outputs": [
    {
     "name": "stdout",
     "output_type": "stream",
     "text": [
      "Valid participants: 27122\n"
     ]
    },
    {
     "data": {
      "text/plain": "           sub_id        date  trip_id  trip_main_id  purpose_main  purpose  \\\n3930  20110111008  2011-01-08        1             1            25       25   \n3931  20110111013  2011-01-10        1             1             2        2   \n3934  20110111013  2011-01-10        2             1            16        2   \n3935  20110111013  2011-01-10        2             2             2        2   \n3936  20110111013  2011-01-10        3             1            16        2   \n\n      origin_main_time  desti_main_time origin_main_deso desti_main_deso  \\\n3930              1815             2359        2581A0020       2284C1060   \n3931               830              850        0180C2670       0180C4430   \n3934              1130             1140        0180C4430       0180C4870   \n3935              1220             1230        0180C4870       0180C4430   \n3936              1700             1705        0180C4430       0180C4430   \n\n      trip_main_mode  \n3930              88  \n3931              10  \n3934               1  \n3935               1  \n3936               1  ",
      "text/html": "<div>\n<style scoped>\n    .dataframe tbody tr th:only-of-type {\n        vertical-align: middle;\n    }\n\n    .dataframe tbody tr th {\n        vertical-align: top;\n    }\n\n    .dataframe thead th {\n        text-align: right;\n    }\n</style>\n<table border=\"1\" class=\"dataframe\">\n  <thead>\n    <tr style=\"text-align: right;\">\n      <th></th>\n      <th>sub_id</th>\n      <th>date</th>\n      <th>trip_id</th>\n      <th>trip_main_id</th>\n      <th>purpose_main</th>\n      <th>purpose</th>\n      <th>origin_main_time</th>\n      <th>desti_main_time</th>\n      <th>origin_main_deso</th>\n      <th>desti_main_deso</th>\n      <th>trip_main_mode</th>\n    </tr>\n  </thead>\n  <tbody>\n    <tr>\n      <th>3930</th>\n      <td>20110111008</td>\n      <td>2011-01-08</td>\n      <td>1</td>\n      <td>1</td>\n      <td>25</td>\n      <td>25</td>\n      <td>1815</td>\n      <td>2359</td>\n      <td>2581A0020</td>\n      <td>2284C1060</td>\n      <td>88</td>\n    </tr>\n    <tr>\n      <th>3931</th>\n      <td>20110111013</td>\n      <td>2011-01-10</td>\n      <td>1</td>\n      <td>1</td>\n      <td>2</td>\n      <td>2</td>\n      <td>830</td>\n      <td>850</td>\n      <td>0180C2670</td>\n      <td>0180C4430</td>\n      <td>10</td>\n    </tr>\n    <tr>\n      <th>3934</th>\n      <td>20110111013</td>\n      <td>2011-01-10</td>\n      <td>2</td>\n      <td>1</td>\n      <td>16</td>\n      <td>2</td>\n      <td>1130</td>\n      <td>1140</td>\n      <td>0180C4430</td>\n      <td>0180C4870</td>\n      <td>1</td>\n    </tr>\n    <tr>\n      <th>3935</th>\n      <td>20110111013</td>\n      <td>2011-01-10</td>\n      <td>2</td>\n      <td>2</td>\n      <td>2</td>\n      <td>2</td>\n      <td>1220</td>\n      <td>1230</td>\n      <td>0180C4870</td>\n      <td>0180C4430</td>\n      <td>1</td>\n    </tr>\n    <tr>\n      <th>3936</th>\n      <td>20110111013</td>\n      <td>2011-01-10</td>\n      <td>3</td>\n      <td>1</td>\n      <td>16</td>\n      <td>2</td>\n      <td>1700</td>\n      <td>1705</td>\n      <td>0180C4430</td>\n      <td>0180C4430</td>\n      <td>1</td>\n    </tr>\n  </tbody>\n</table>\n</div>"
     },
     "execution_count": 6,
     "metadata": {},
     "output_type": "execute_result"
    }
   ],
   "source": [
    "df = df.loc[df.sub_id.isin(df_complt.loc[df_complt.complt == 1, 'sub_id']), :]\n",
    "for var in ['purpose', 'purpose_main', 'origin_main_time', 'desti_main_time', 'trip_main_mode']:\n",
    "    df.loc[:, var] = df.loc[:, var].astype(int)\n",
    "print('Valid participants: %s'%df.sub_id.nunique())\n",
    "df.head()"
   ],
   "metadata": {
    "collapsed": false,
    "pycharm": {
     "name": "#%%\n"
    }
   }
  },
  {
   "cell_type": "markdown",
   "source": [
    "purpose_main 2, 3, the rest = commuting (XW), School (S), and Other (O)\n",
    "\n",
    "Recoding it to 2, 3, and 0"
   ],
   "metadata": {
    "collapsed": false,
    "pycharm": {
     "name": "#%% md\n"
    }
   }
  },
  {
   "cell_type": "code",
   "execution_count": 16,
   "outputs": [],
   "source": [
    "df.loc[:, 'purpose_main'] = df.loc[:, 'purpose_main'].apply(lambda x: 0 if x not in (2, 3) else x)"
   ],
   "metadata": {
    "collapsed": false,
    "pycharm": {
     "name": "#%%\n"
    }
   }
  },
  {
   "cell_type": "markdown",
   "source": [
    "## 1. Trip chains"
   ],
   "metadata": {
    "collapsed": false,
    "pycharm": {
     "name": "#%% md\n"
    }
   }
  },
  {
   "cell_type": "code",
   "execution_count": 26,
   "outputs": [
    {
     "data": {
      "text/plain": "           sub_id        date  trip_id  trip_main_id  purpose_main  purpose  \\\n3931  20110111013  2011-01-10        1             1             2        2   \n3934  20110111013  2011-01-10        2             1            16        2   \n3935  20110111013  2011-01-10        2             2             2        2   \n3936  20110111013  2011-01-10        3             1            16        2   \n3937  20110111013  2011-01-10        3             2             2        2   \n3938  20110111013  2011-01-10        4             1             2        2   \n\n      origin_main_time  desti_main_time origin_main_deso desti_main_deso  \\\n3931               830              850        0180C2670       0180C4430   \n3934              1130             1140        0180C4430       0180C4870   \n3935              1220             1230        0180C4870       0180C4430   \n3936              1700             1705        0180C4430       0180C4430   \n3937              1720             1725        0180C4430       0180C4430   \n3938              2000             2020        0180C4430       0180C2670   \n\n      trip_main_mode  \n3931              10  \n3934               1  \n3935               1  \n3936               1  \n3937               1  \n3938              10  ",
      "text/html": "<div>\n<style scoped>\n    .dataframe tbody tr th:only-of-type {\n        vertical-align: middle;\n    }\n\n    .dataframe tbody tr th {\n        vertical-align: top;\n    }\n\n    .dataframe thead th {\n        text-align: right;\n    }\n</style>\n<table border=\"1\" class=\"dataframe\">\n  <thead>\n    <tr style=\"text-align: right;\">\n      <th></th>\n      <th>sub_id</th>\n      <th>date</th>\n      <th>trip_id</th>\n      <th>trip_main_id</th>\n      <th>purpose_main</th>\n      <th>purpose</th>\n      <th>origin_main_time</th>\n      <th>desti_main_time</th>\n      <th>origin_main_deso</th>\n      <th>desti_main_deso</th>\n      <th>trip_main_mode</th>\n    </tr>\n  </thead>\n  <tbody>\n    <tr>\n      <th>3931</th>\n      <td>20110111013</td>\n      <td>2011-01-10</td>\n      <td>1</td>\n      <td>1</td>\n      <td>2</td>\n      <td>2</td>\n      <td>830</td>\n      <td>850</td>\n      <td>0180C2670</td>\n      <td>0180C4430</td>\n      <td>10</td>\n    </tr>\n    <tr>\n      <th>3934</th>\n      <td>20110111013</td>\n      <td>2011-01-10</td>\n      <td>2</td>\n      <td>1</td>\n      <td>16</td>\n      <td>2</td>\n      <td>1130</td>\n      <td>1140</td>\n      <td>0180C4430</td>\n      <td>0180C4870</td>\n      <td>1</td>\n    </tr>\n    <tr>\n      <th>3935</th>\n      <td>20110111013</td>\n      <td>2011-01-10</td>\n      <td>2</td>\n      <td>2</td>\n      <td>2</td>\n      <td>2</td>\n      <td>1220</td>\n      <td>1230</td>\n      <td>0180C4870</td>\n      <td>0180C4430</td>\n      <td>1</td>\n    </tr>\n    <tr>\n      <th>3936</th>\n      <td>20110111013</td>\n      <td>2011-01-10</td>\n      <td>3</td>\n      <td>1</td>\n      <td>16</td>\n      <td>2</td>\n      <td>1700</td>\n      <td>1705</td>\n      <td>0180C4430</td>\n      <td>0180C4430</td>\n      <td>1</td>\n    </tr>\n    <tr>\n      <th>3937</th>\n      <td>20110111013</td>\n      <td>2011-01-10</td>\n      <td>3</td>\n      <td>2</td>\n      <td>2</td>\n      <td>2</td>\n      <td>1720</td>\n      <td>1725</td>\n      <td>0180C4430</td>\n      <td>0180C4430</td>\n      <td>1</td>\n    </tr>\n    <tr>\n      <th>3938</th>\n      <td>20110111013</td>\n      <td>2011-01-10</td>\n      <td>4</td>\n      <td>1</td>\n      <td>2</td>\n      <td>2</td>\n      <td>2000</td>\n      <td>2020</td>\n      <td>0180C4430</td>\n      <td>0180C2670</td>\n      <td>10</td>\n    </tr>\n  </tbody>\n</table>\n</div>"
     },
     "execution_count": 26,
     "metadata": {},
     "output_type": "execute_result"
    }
   ],
   "source": [
    "df_test = df.loc[df['sub_id'] == 20110111013, :]\n",
    "df_test"
   ],
   "metadata": {
    "collapsed": false,
    "pycharm": {
     "name": "#%%\n"
    }
   }
  },
  {
   "cell_type": "code",
   "execution_count": 27,
   "outputs": [
    {
     "data": {
      "text/plain": "           sub_id        date  trip_id  trip_main_id  purpose_main  purpose  \\\n3969  20110111036  2011-01-09        1             1            25       25   \n3972  20110111036  2011-01-09        2             1             7        7   \n3974  20110111036  2011-01-09        2             2            25        7   \n3976  20110111036  2011-01-09        2             3             7        7   \n3980  20110111036  2011-01-09        3             1             2        2   \n\n      origin_main_time  desti_main_time origin_main_deso desti_main_deso  \\\n3969               730              745        1481C1310       1480C1610   \n3972              1620             1630        1480C1610       1480C2460   \n3974              1631             1830        1480C2460       1480C2350   \n3976              1835             1850        1480C2350       1480C1610   \n3980              2100             2110        1480C1610       1481C1310   \n\n      trip_main_mode  \n3969             501  \n3972              11  \n3974               1  \n3976               1  \n3980             501  ",
      "text/html": "<div>\n<style scoped>\n    .dataframe tbody tr th:only-of-type {\n        vertical-align: middle;\n    }\n\n    .dataframe tbody tr th {\n        vertical-align: top;\n    }\n\n    .dataframe thead th {\n        text-align: right;\n    }\n</style>\n<table border=\"1\" class=\"dataframe\">\n  <thead>\n    <tr style=\"text-align: right;\">\n      <th></th>\n      <th>sub_id</th>\n      <th>date</th>\n      <th>trip_id</th>\n      <th>trip_main_id</th>\n      <th>purpose_main</th>\n      <th>purpose</th>\n      <th>origin_main_time</th>\n      <th>desti_main_time</th>\n      <th>origin_main_deso</th>\n      <th>desti_main_deso</th>\n      <th>trip_main_mode</th>\n    </tr>\n  </thead>\n  <tbody>\n    <tr>\n      <th>3969</th>\n      <td>20110111036</td>\n      <td>2011-01-09</td>\n      <td>1</td>\n      <td>1</td>\n      <td>25</td>\n      <td>25</td>\n      <td>730</td>\n      <td>745</td>\n      <td>1481C1310</td>\n      <td>1480C1610</td>\n      <td>501</td>\n    </tr>\n    <tr>\n      <th>3972</th>\n      <td>20110111036</td>\n      <td>2011-01-09</td>\n      <td>2</td>\n      <td>1</td>\n      <td>7</td>\n      <td>7</td>\n      <td>1620</td>\n      <td>1630</td>\n      <td>1480C1610</td>\n      <td>1480C2460</td>\n      <td>11</td>\n    </tr>\n    <tr>\n      <th>3974</th>\n      <td>20110111036</td>\n      <td>2011-01-09</td>\n      <td>2</td>\n      <td>2</td>\n      <td>25</td>\n      <td>7</td>\n      <td>1631</td>\n      <td>1830</td>\n      <td>1480C2460</td>\n      <td>1480C2350</td>\n      <td>1</td>\n    </tr>\n    <tr>\n      <th>3976</th>\n      <td>20110111036</td>\n      <td>2011-01-09</td>\n      <td>2</td>\n      <td>3</td>\n      <td>7</td>\n      <td>7</td>\n      <td>1835</td>\n      <td>1850</td>\n      <td>1480C2350</td>\n      <td>1480C1610</td>\n      <td>1</td>\n    </tr>\n    <tr>\n      <th>3980</th>\n      <td>20110111036</td>\n      <td>2011-01-09</td>\n      <td>3</td>\n      <td>1</td>\n      <td>2</td>\n      <td>2</td>\n      <td>2100</td>\n      <td>2110</td>\n      <td>1480C1610</td>\n      <td>1481C1310</td>\n      <td>501</td>\n    </tr>\n  </tbody>\n</table>\n</div>"
     },
     "execution_count": 27,
     "metadata": {},
     "output_type": "execute_result"
    }
   ],
   "source": [
    "df_test = df.loc[df['sub_id'] == 20110111036, :]\n",
    "df_test"
   ],
   "metadata": {
    "collapsed": false,
    "pycharm": {
     "name": "#%%\n"
    }
   }
  },
  {
   "cell_type": "code",
   "execution_count": 28,
   "outputs": [
    {
     "data": {
      "text/plain": "           sub_id        date  trip_id  trip_main_id  purpose_main  purpose  \\\n4007  20110111049  2011-01-04        1             1             2        2   \n4009  20110111049  2011-01-04        2             1             2        2   \n4010  20110111049  2011-01-04        3             1            17       17   \n4011  20110111049  2011-01-04        3             2            17       17   \n\n      origin_main_time  desti_main_time origin_main_deso desti_main_deso  \\\n4007               720              740        1401C1090       1402C1180   \n4009              1600             1620        1402C1180       1401C1090   \n4010              1645             1652        1401C1090       1401C1020   \n4011              1820             1827        1401C1020       1401C1090   \n\n      trip_main_mode  \n4007             501  \n4009             501  \n4010               1  \n4011               1  ",
      "text/html": "<div>\n<style scoped>\n    .dataframe tbody tr th:only-of-type {\n        vertical-align: middle;\n    }\n\n    .dataframe tbody tr th {\n        vertical-align: top;\n    }\n\n    .dataframe thead th {\n        text-align: right;\n    }\n</style>\n<table border=\"1\" class=\"dataframe\">\n  <thead>\n    <tr style=\"text-align: right;\">\n      <th></th>\n      <th>sub_id</th>\n      <th>date</th>\n      <th>trip_id</th>\n      <th>trip_main_id</th>\n      <th>purpose_main</th>\n      <th>purpose</th>\n      <th>origin_main_time</th>\n      <th>desti_main_time</th>\n      <th>origin_main_deso</th>\n      <th>desti_main_deso</th>\n      <th>trip_main_mode</th>\n    </tr>\n  </thead>\n  <tbody>\n    <tr>\n      <th>4007</th>\n      <td>20110111049</td>\n      <td>2011-01-04</td>\n      <td>1</td>\n      <td>1</td>\n      <td>2</td>\n      <td>2</td>\n      <td>720</td>\n      <td>740</td>\n      <td>1401C1090</td>\n      <td>1402C1180</td>\n      <td>501</td>\n    </tr>\n    <tr>\n      <th>4009</th>\n      <td>20110111049</td>\n      <td>2011-01-04</td>\n      <td>2</td>\n      <td>1</td>\n      <td>2</td>\n      <td>2</td>\n      <td>1600</td>\n      <td>1620</td>\n      <td>1402C1180</td>\n      <td>1401C1090</td>\n      <td>501</td>\n    </tr>\n    <tr>\n      <th>4010</th>\n      <td>20110111049</td>\n      <td>2011-01-04</td>\n      <td>3</td>\n      <td>1</td>\n      <td>17</td>\n      <td>17</td>\n      <td>1645</td>\n      <td>1652</td>\n      <td>1401C1090</td>\n      <td>1401C1020</td>\n      <td>1</td>\n    </tr>\n    <tr>\n      <th>4011</th>\n      <td>20110111049</td>\n      <td>2011-01-04</td>\n      <td>3</td>\n      <td>2</td>\n      <td>17</td>\n      <td>17</td>\n      <td>1820</td>\n      <td>1827</td>\n      <td>1401C1020</td>\n      <td>1401C1090</td>\n      <td>1</td>\n    </tr>\n  </tbody>\n</table>\n</div>"
     },
     "execution_count": 28,
     "metadata": {},
     "output_type": "execute_result"
    }
   ],
   "source": [
    "df_test = df.loc[df['sub_id'] == 20110111049, :]\n",
    "df_test"
   ],
   "metadata": {
    "collapsed": false,
    "pycharm": {
     "name": "#%%\n"
    }
   }
  },
  {
   "cell_type": "code",
   "execution_count": 7,
   "outputs": [
    {
     "data": {
      "text/plain": "           sub_id        date  trip_id  trip_main_id  purpose_main  purpose  \\\n4052  20110111072  2011-01-04        1             1             6        6   \n3975  20110111072  2011-01-04        1             2             6        6   \n3979  20110111072  2011-01-04        2             1            17       17   \n\n      origin_main_time  desti_main_time origin_main_deso desti_main_deso  \\\n4052              1100             1102        1401C1140       1401C1140   \n3975              1115             1120        1401C1140       1401C1140   \n3979              1300             1400        1401C1140       1401C1140   \n\n      trip_main_mode  \n4052               1  \n3975               1  \n3979               1  ",
      "text/html": "<div>\n<style scoped>\n    .dataframe tbody tr th:only-of-type {\n        vertical-align: middle;\n    }\n\n    .dataframe tbody tr th {\n        vertical-align: top;\n    }\n\n    .dataframe thead th {\n        text-align: right;\n    }\n</style>\n<table border=\"1\" class=\"dataframe\">\n  <thead>\n    <tr style=\"text-align: right;\">\n      <th></th>\n      <th>sub_id</th>\n      <th>date</th>\n      <th>trip_id</th>\n      <th>trip_main_id</th>\n      <th>purpose_main</th>\n      <th>purpose</th>\n      <th>origin_main_time</th>\n      <th>desti_main_time</th>\n      <th>origin_main_deso</th>\n      <th>desti_main_deso</th>\n      <th>trip_main_mode</th>\n    </tr>\n  </thead>\n  <tbody>\n    <tr>\n      <th>4052</th>\n      <td>20110111072</td>\n      <td>2011-01-04</td>\n      <td>1</td>\n      <td>1</td>\n      <td>6</td>\n      <td>6</td>\n      <td>1100</td>\n      <td>1102</td>\n      <td>1401C1140</td>\n      <td>1401C1140</td>\n      <td>1</td>\n    </tr>\n    <tr>\n      <th>3975</th>\n      <td>20110111072</td>\n      <td>2011-01-04</td>\n      <td>1</td>\n      <td>2</td>\n      <td>6</td>\n      <td>6</td>\n      <td>1115</td>\n      <td>1120</td>\n      <td>1401C1140</td>\n      <td>1401C1140</td>\n      <td>1</td>\n    </tr>\n    <tr>\n      <th>3979</th>\n      <td>20110111072</td>\n      <td>2011-01-04</td>\n      <td>2</td>\n      <td>1</td>\n      <td>17</td>\n      <td>17</td>\n      <td>1300</td>\n      <td>1400</td>\n      <td>1401C1140</td>\n      <td>1401C1140</td>\n      <td>1</td>\n    </tr>\n  </tbody>\n</table>\n</div>"
     },
     "execution_count": 7,
     "metadata": {},
     "output_type": "execute_result"
    }
   ],
   "source": [
    "df_test = df.loc[df['sub_id'] == 20110111072, :]\n",
    "df_test"
   ],
   "metadata": {
    "collapsed": false,
    "pycharm": {
     "name": "#%%\n"
    }
   }
  },
  {
   "cell_type": "code",
   "execution_count": 30,
   "outputs": [
    {
     "data": {
      "text/plain": "           sub_id        date  trip_id  trip_main_id  purpose_main  purpose  \\\n4110  20110121017  2011-01-07        1             1             7       23   \n4115  20110121017  2011-01-07        1             2            23       23   \n4116  20110121017  2011-01-07        2             1             6        6   \n6     20110121017  2011-01-07        2             2             6        6   \n\n      origin_main_time  desti_main_time origin_main_deso desti_main_deso  \\\n4110              1800             1845        1490C1350       1490C1070   \n4115              1920             1945        1490C1070       1490C1350   \n4116              2030             2031        1490C1350       1490C1120   \n6                 2040             2041        1490C1120       1490C1350   \n\n      trip_main_mode  \n4110             121  \n4115             516  \n4116               1  \n6                  1  ",
      "text/html": "<div>\n<style scoped>\n    .dataframe tbody tr th:only-of-type {\n        vertical-align: middle;\n    }\n\n    .dataframe tbody tr th {\n        vertical-align: top;\n    }\n\n    .dataframe thead th {\n        text-align: right;\n    }\n</style>\n<table border=\"1\" class=\"dataframe\">\n  <thead>\n    <tr style=\"text-align: right;\">\n      <th></th>\n      <th>sub_id</th>\n      <th>date</th>\n      <th>trip_id</th>\n      <th>trip_main_id</th>\n      <th>purpose_main</th>\n      <th>purpose</th>\n      <th>origin_main_time</th>\n      <th>desti_main_time</th>\n      <th>origin_main_deso</th>\n      <th>desti_main_deso</th>\n      <th>trip_main_mode</th>\n    </tr>\n  </thead>\n  <tbody>\n    <tr>\n      <th>4110</th>\n      <td>20110121017</td>\n      <td>2011-01-07</td>\n      <td>1</td>\n      <td>1</td>\n      <td>7</td>\n      <td>23</td>\n      <td>1800</td>\n      <td>1845</td>\n      <td>1490C1350</td>\n      <td>1490C1070</td>\n      <td>121</td>\n    </tr>\n    <tr>\n      <th>4115</th>\n      <td>20110121017</td>\n      <td>2011-01-07</td>\n      <td>1</td>\n      <td>2</td>\n      <td>23</td>\n      <td>23</td>\n      <td>1920</td>\n      <td>1945</td>\n      <td>1490C1070</td>\n      <td>1490C1350</td>\n      <td>516</td>\n    </tr>\n    <tr>\n      <th>4116</th>\n      <td>20110121017</td>\n      <td>2011-01-07</td>\n      <td>2</td>\n      <td>1</td>\n      <td>6</td>\n      <td>6</td>\n      <td>2030</td>\n      <td>2031</td>\n      <td>1490C1350</td>\n      <td>1490C1120</td>\n      <td>1</td>\n    </tr>\n    <tr>\n      <th>6</th>\n      <td>20110121017</td>\n      <td>2011-01-07</td>\n      <td>2</td>\n      <td>2</td>\n      <td>6</td>\n      <td>6</td>\n      <td>2040</td>\n      <td>2041</td>\n      <td>1490C1120</td>\n      <td>1490C1350</td>\n      <td>1</td>\n    </tr>\n  </tbody>\n</table>\n</div>"
     },
     "execution_count": 30,
     "metadata": {},
     "output_type": "execute_result"
    }
   ],
   "source": [
    "df_test = df.loc[df['sub_id'] == 20110121017, :]\n",
    "df_test"
   ],
   "metadata": {
    "collapsed": false,
    "pycharm": {
     "name": "#%%\n"
    }
   }
  },
  {
   "cell_type": "markdown",
   "source": [
    "## 2. Extract individuals for activities\n",
    "\n",
    "The individuals satisfying a combination of the below conditions will be selected for the activity extraction.\n",
    "\n",
    "1. The last trip is commuting.\n",
    "2. The last trip is a round trip.\n",
    "3. The last trip and the same trip has the same purpose.\n",
    "4. The first origin and the last destination are in the same DeSO zone"
   ],
   "metadata": {
    "collapsed": false,
    "pycharm": {
     "name": "#%% md\n"
    }
   }
  },
  {
   "cell_type": "code",
   "execution_count": 7,
   "outputs": [],
   "source": [
    "def individual_process(data):\n",
    "    first_purpose = data['purpose'].values[0]\n",
    "    last_purpose = data['purpose'].values[-1]\n",
    "    last_trip_num = data['trip_id'].max()\n",
    "    last_round_trip = int(len(data.loc[data['trip_id'] == last_trip_num, :]) > 1)\n",
    "    same_zone = int(data['origin_main_deso'].values[0] == data['desti_main_deso'].values[-1])\n",
    "    comm_end = int(last_purpose == 2)\n",
    "    round_end = int(last_round_trip == 1)\n",
    "    same_pur = int(first_purpose == last_purpose)\n",
    "    return pd.Series({'same_zone':same_zone, 'comm_end':comm_end, 'round_end':round_end, 'same_pur': same_pur})"
   ],
   "metadata": {
    "collapsed": false,
    "pycharm": {
     "name": "#%%\n"
    }
   }
  },
  {
   "cell_type": "code",
   "execution_count": 8,
   "outputs": [
    {
     "data": {
      "text/plain": "        sub_id  same_zone  comm_end  round_end  same_pur\n0  20110111008          0         0          0         1\n1  20110111013          1         1          0         1\n2  20110111016          1         0          1         1\n3  20110111020          1         1          1         1\n4  20110111023          1         0          1         1",
      "text/html": "<div>\n<style scoped>\n    .dataframe tbody tr th:only-of-type {\n        vertical-align: middle;\n    }\n\n    .dataframe tbody tr th {\n        vertical-align: top;\n    }\n\n    .dataframe thead th {\n        text-align: right;\n    }\n</style>\n<table border=\"1\" class=\"dataframe\">\n  <thead>\n    <tr style=\"text-align: right;\">\n      <th></th>\n      <th>sub_id</th>\n      <th>same_zone</th>\n      <th>comm_end</th>\n      <th>round_end</th>\n      <th>same_pur</th>\n    </tr>\n  </thead>\n  <tbody>\n    <tr>\n      <th>0</th>\n      <td>20110111008</td>\n      <td>0</td>\n      <td>0</td>\n      <td>0</td>\n      <td>1</td>\n    </tr>\n    <tr>\n      <th>1</th>\n      <td>20110111013</td>\n      <td>1</td>\n      <td>1</td>\n      <td>0</td>\n      <td>1</td>\n    </tr>\n    <tr>\n      <th>2</th>\n      <td>20110111016</td>\n      <td>1</td>\n      <td>0</td>\n      <td>1</td>\n      <td>1</td>\n    </tr>\n    <tr>\n      <th>3</th>\n      <td>20110111020</td>\n      <td>1</td>\n      <td>1</td>\n      <td>1</td>\n      <td>1</td>\n    </tr>\n    <tr>\n      <th>4</th>\n      <td>20110111023</td>\n      <td>1</td>\n      <td>0</td>\n      <td>1</td>\n      <td>1</td>\n    </tr>\n  </tbody>\n</table>\n</div>"
     },
     "execution_count": 8,
     "metadata": {},
     "output_type": "execute_result"
    }
   ],
   "source": [
    "df_act_patterns = df.groupby('sub_id').apply(individual_process).reset_index()\n",
    "df_act_patterns.head()"
   ],
   "metadata": {
    "collapsed": false,
    "pycharm": {
     "name": "#%%\n"
    }
   }
  },
  {
   "cell_type": "code",
   "execution_count": 9,
   "outputs": [],
   "source": [
    "df_act_patterns.loc[:, 'any'] = df_act_patterns.apply(lambda row: int(row['comm_end'] + row['round_end'] + row['same_pur'] > 0), axis=1)"
   ],
   "metadata": {
    "collapsed": false,
    "pycharm": {
     "name": "#%%\n"
    }
   }
  },
  {
   "cell_type": "code",
   "execution_count": 10,
   "outputs": [
    {
     "name": "stdout",
     "output_type": "stream",
     "text": [
      "Share of participants with same start and end DeSO zone: 90.78\n",
      "Share of participants with same start and end purpose: 71.09\n",
      "Share of participants with last trip being commuting: 22.30\n",
      "Share of participants with last trip being a round trip: 58.18\n"
     ]
    }
   ],
   "source": [
    "share_same_zone = df_act_patterns.loc[df_act_patterns.same_zone == 1, :].size / df_act_patterns.size *100\n",
    "share_comm_end = df_act_patterns.loc[df_act_patterns.comm_end == 1, :].size / df_act_patterns.size *100\n",
    "share_round_end = df_act_patterns.loc[df_act_patterns.round_end == 1, :].size / df_act_patterns.size *100\n",
    "share_same_pur = df_act_patterns.loc[df_act_patterns.same_pur == 1, :].size / df_act_patterns.size *100\n",
    "print(\"Share of participants with same start and end DeSO zone: %.2f\"%share_same_zone)\n",
    "print(\"Share of participants with same start and end purpose: %.2f\"%share_same_pur)\n",
    "print(\"Share of participants with last trip being commuting: %.2f\"%share_comm_end)\n",
    "print(\"Share of participants with last trip being a round trip: %.2f\"%share_round_end)"
   ],
   "metadata": {
    "collapsed": false,
    "pycharm": {
     "name": "#%%\n"
    }
   }
  },
  {
   "cell_type": "markdown",
   "source": [
    "### 2.1 Participants filter\n",
    "Participants with same start and end DeSO zone AND any of the three conditions is met: same start and end purpose, last trip being commuting, and last trip being a round trip."
   ],
   "metadata": {
    "collapsed": false,
    "pycharm": {
     "name": "#%% md\n"
    }
   }
  },
  {
   "cell_type": "code",
   "execution_count": 11,
   "outputs": [
    {
     "name": "stdout",
     "output_type": "stream",
     "text": [
      "Share of participants selected: 84.43\n"
     ]
    }
   ],
   "source": [
    "selected_inds = df_act_patterns.loc[(df_act_patterns.same_zone == 1) & (df_act_patterns['any'] == 1), 'sub_id'].values\n",
    "print(\"Share of participants selected: %.2f\"%(len(selected_inds) / len(df_act_patterns) * 100))"
   ],
   "metadata": {
    "collapsed": false,
    "pycharm": {
     "name": "#%%\n"
    }
   }
  },
  {
   "cell_type": "code",
   "execution_count": 12,
   "outputs": [],
   "source": [
    "df_sub = df.loc[df.sub_id.isin(selected_inds), :].copy()"
   ],
   "metadata": {
    "collapsed": false,
    "pycharm": {
     "name": "#%%\n"
    }
   }
  },
  {
   "cell_type": "markdown",
   "source": [
    "## 3. Convert trips into time series of activities\n",
    "### 3.1 Time processing"
   ],
   "metadata": {
    "collapsed": false,
    "pycharm": {
     "name": "#%% md\n"
    }
   }
  },
  {
   "cell_type": "code",
   "execution_count": 15,
   "outputs": [
    {
     "data": {
      "text/plain": "           sub_id        date  trip_id  trip_main_id  purpose_main  purpose  \\\n3931  20110111013  2011-01-10        1             1             2        2   \n3934  20110111013  2011-01-10        2             1            16        2   \n3935  20110111013  2011-01-10        2             2             2        2   \n3936  20110111013  2011-01-10        3             1            16        2   \n3937  20110111013  2011-01-10        3             2             2        2   \n\n      origin_main_time  desti_main_time origin_main_deso desti_main_deso  \\\n3931               830              850        0180C2670       0180C4430   \n3934              1130             1140        0180C4430       0180C4870   \n3935              1220             1230        0180C4870       0180C4430   \n3936              1700             1705        0180C4430       0180C4430   \n3937              1720             1725        0180C4430       0180C4430   \n\n      trip_main_mode  \n3931              10  \n3934               1  \n3935               1  \n3936               1  \n3937               1  ",
      "text/html": "<div>\n<style scoped>\n    .dataframe tbody tr th:only-of-type {\n        vertical-align: middle;\n    }\n\n    .dataframe tbody tr th {\n        vertical-align: top;\n    }\n\n    .dataframe thead th {\n        text-align: right;\n    }\n</style>\n<table border=\"1\" class=\"dataframe\">\n  <thead>\n    <tr style=\"text-align: right;\">\n      <th></th>\n      <th>sub_id</th>\n      <th>date</th>\n      <th>trip_id</th>\n      <th>trip_main_id</th>\n      <th>purpose_main</th>\n      <th>purpose</th>\n      <th>origin_main_time</th>\n      <th>desti_main_time</th>\n      <th>origin_main_deso</th>\n      <th>desti_main_deso</th>\n      <th>trip_main_mode</th>\n    </tr>\n  </thead>\n  <tbody>\n    <tr>\n      <th>3931</th>\n      <td>20110111013</td>\n      <td>2011-01-10</td>\n      <td>1</td>\n      <td>1</td>\n      <td>2</td>\n      <td>2</td>\n      <td>830</td>\n      <td>850</td>\n      <td>0180C2670</td>\n      <td>0180C4430</td>\n      <td>10</td>\n    </tr>\n    <tr>\n      <th>3934</th>\n      <td>20110111013</td>\n      <td>2011-01-10</td>\n      <td>2</td>\n      <td>1</td>\n      <td>16</td>\n      <td>2</td>\n      <td>1130</td>\n      <td>1140</td>\n      <td>0180C4430</td>\n      <td>0180C4870</td>\n      <td>1</td>\n    </tr>\n    <tr>\n      <th>3935</th>\n      <td>20110111013</td>\n      <td>2011-01-10</td>\n      <td>2</td>\n      <td>2</td>\n      <td>2</td>\n      <td>2</td>\n      <td>1220</td>\n      <td>1230</td>\n      <td>0180C4870</td>\n      <td>0180C4430</td>\n      <td>1</td>\n    </tr>\n    <tr>\n      <th>3936</th>\n      <td>20110111013</td>\n      <td>2011-01-10</td>\n      <td>3</td>\n      <td>1</td>\n      <td>16</td>\n      <td>2</td>\n      <td>1700</td>\n      <td>1705</td>\n      <td>0180C4430</td>\n      <td>0180C4430</td>\n      <td>1</td>\n    </tr>\n    <tr>\n      <th>3937</th>\n      <td>20110111013</td>\n      <td>2011-01-10</td>\n      <td>3</td>\n      <td>2</td>\n      <td>2</td>\n      <td>2</td>\n      <td>1720</td>\n      <td>1725</td>\n      <td>0180C4430</td>\n      <td>0180C4430</td>\n      <td>1</td>\n    </tr>\n  </tbody>\n</table>\n</div>"
     },
     "execution_count": 15,
     "metadata": {},
     "output_type": "execute_result"
    }
   ],
   "source": [
    "df_sub.head()"
   ],
   "metadata": {
    "collapsed": false,
    "pycharm": {
     "name": "#%%\n"
    }
   }
  },
  {
   "cell_type": "code",
   "execution_count": 16,
   "outputs": [],
   "source": [
    "def time_padding(x):\n",
    "    if len(x) == 4:\n",
    "        return x\n",
    "    if len(x) == 3:\n",
    "        return '0' + x\n",
    "    if len(x) == 2:\n",
    "        return '00' + x\n",
    "    if len(x) == 1:\n",
    "        return '000' + x"
   ],
   "metadata": {
    "collapsed": false,
    "pycharm": {
     "name": "#%%\n"
    }
   }
  },
  {
   "cell_type": "code",
   "execution_count": 17,
   "outputs": [],
   "source": [
    "df_sub.loc[:, 'origin_main_T'] = df_sub['date'] + ' ' + df_sub['origin_main_time'].astype(str).apply(lambda x: time_padding(x))\n",
    "df_sub.loc[:, 'desti_main_T'] = df_sub['date'] + ' ' + df_sub['desti_main_time'].astype(str).apply(lambda x: time_padding(x))"
   ],
   "metadata": {
    "collapsed": false,
    "pycharm": {
     "name": "#%%\n"
    }
   }
  },
  {
   "cell_type": "code",
   "execution_count": 18,
   "outputs": [],
   "source": [
    "df_sub.loc[:, 'origin_main_T'] = df_sub['origin_main_T'].apply(lambda x: datetime.strptime(str(x),'%Y-%m-%d %H%M'))\n",
    "df_sub.loc[:, 'desti_main_T'] = df_sub['desti_main_T'].apply(lambda x: datetime.strptime(str(x),'%Y-%m-%d %H%M'))"
   ],
   "metadata": {
    "collapsed": false,
    "pycharm": {
     "name": "#%%\n"
    }
   }
  },
  {
   "cell_type": "code",
   "execution_count": 19,
   "outputs": [],
   "source": [
    "df_sub.loc[:, 'travel_time'] = df_sub.loc[:, 'desti_main_T'] - df_sub.loc[:, 'origin_main_T']\n",
    "df_sub.loc[df_sub.travel_time < dt.timedelta(minutes=0), 'desti_main_T'] += dt.timedelta(minutes=1440)\n",
    "df_sub.loc[:, 'travel_time'] = df_sub.loc[:, 'desti_main_T'] - df_sub.loc[:, 'origin_main_T']\n",
    "df_sub.loc[:, 'travel_time'] /= dt.timedelta(minutes=1)"
   ],
   "metadata": {
    "collapsed": false,
    "pycharm": {
     "name": "#%%\n"
    }
   }
  },
  {
   "cell_type": "markdown",
   "source": [
    "### 3.2 Create time series"
   ],
   "metadata": {
    "collapsed": false,
    "pycharm": {
     "name": "#%% md\n"
    }
   }
  },
  {
   "cell_type": "code",
   "execution_count": 15,
   "outputs": [
    {
     "data": {
      "text/plain": "           sub_id        date  trip_id  trip_main_id  purpose_main  purpose  \\\n3931  20110111013  2011-01-10        1             1             2        2   \n3934  20110111013  2011-01-10        2             1            16        2   \n3935  20110111013  2011-01-10        2             2             2        2   \n3936  20110111013  2011-01-10        3             1            16        2   \n3937  20110111013  2011-01-10        3             2             2        2   \n3938  20110111013  2011-01-10        4             1             2        2   \n\n      origin_main_time  desti_main_time origin_main_deso desti_main_deso  \\\n3931               830              850        0180C2670       0180C4430   \n3934              1130             1140        0180C4430       0180C4870   \n3935              1220             1230        0180C4870       0180C4430   \n3936              1700             1705        0180C4430       0180C4430   \n3937              1720             1725        0180C4430       0180C4430   \n3938              2000             2020        0180C4430       0180C2670   \n\n      trip_main_mode       origin_main_T        desti_main_T  travel_time  \n3931              10 2011-01-10 08:30:00 2011-01-10 08:50:00         20.0  \n3934               1 2011-01-10 11:30:00 2011-01-10 11:40:00         10.0  \n3935               1 2011-01-10 12:20:00 2011-01-10 12:30:00         10.0  \n3936               1 2011-01-10 17:00:00 2011-01-10 17:05:00          5.0  \n3937               1 2011-01-10 17:20:00 2011-01-10 17:25:00          5.0  \n3938              10 2011-01-10 20:00:00 2011-01-10 20:20:00         20.0  ",
      "text/html": "<div>\n<style scoped>\n    .dataframe tbody tr th:only-of-type {\n        vertical-align: middle;\n    }\n\n    .dataframe tbody tr th {\n        vertical-align: top;\n    }\n\n    .dataframe thead th {\n        text-align: right;\n    }\n</style>\n<table border=\"1\" class=\"dataframe\">\n  <thead>\n    <tr style=\"text-align: right;\">\n      <th></th>\n      <th>sub_id</th>\n      <th>date</th>\n      <th>trip_id</th>\n      <th>trip_main_id</th>\n      <th>purpose_main</th>\n      <th>purpose</th>\n      <th>origin_main_time</th>\n      <th>desti_main_time</th>\n      <th>origin_main_deso</th>\n      <th>desti_main_deso</th>\n      <th>trip_main_mode</th>\n      <th>origin_main_T</th>\n      <th>desti_main_T</th>\n      <th>travel_time</th>\n    </tr>\n  </thead>\n  <tbody>\n    <tr>\n      <th>3931</th>\n      <td>20110111013</td>\n      <td>2011-01-10</td>\n      <td>1</td>\n      <td>1</td>\n      <td>2</td>\n      <td>2</td>\n      <td>830</td>\n      <td>850</td>\n      <td>0180C2670</td>\n      <td>0180C4430</td>\n      <td>10</td>\n      <td>2011-01-10 08:30:00</td>\n      <td>2011-01-10 08:50:00</td>\n      <td>20.0</td>\n    </tr>\n    <tr>\n      <th>3934</th>\n      <td>20110111013</td>\n      <td>2011-01-10</td>\n      <td>2</td>\n      <td>1</td>\n      <td>16</td>\n      <td>2</td>\n      <td>1130</td>\n      <td>1140</td>\n      <td>0180C4430</td>\n      <td>0180C4870</td>\n      <td>1</td>\n      <td>2011-01-10 11:30:00</td>\n      <td>2011-01-10 11:40:00</td>\n      <td>10.0</td>\n    </tr>\n    <tr>\n      <th>3935</th>\n      <td>20110111013</td>\n      <td>2011-01-10</td>\n      <td>2</td>\n      <td>2</td>\n      <td>2</td>\n      <td>2</td>\n      <td>1220</td>\n      <td>1230</td>\n      <td>0180C4870</td>\n      <td>0180C4430</td>\n      <td>1</td>\n      <td>2011-01-10 12:20:00</td>\n      <td>2011-01-10 12:30:00</td>\n      <td>10.0</td>\n    </tr>\n    <tr>\n      <th>3936</th>\n      <td>20110111013</td>\n      <td>2011-01-10</td>\n      <td>3</td>\n      <td>1</td>\n      <td>16</td>\n      <td>2</td>\n      <td>1700</td>\n      <td>1705</td>\n      <td>0180C4430</td>\n      <td>0180C4430</td>\n      <td>1</td>\n      <td>2011-01-10 17:00:00</td>\n      <td>2011-01-10 17:05:00</td>\n      <td>5.0</td>\n    </tr>\n    <tr>\n      <th>3937</th>\n      <td>20110111013</td>\n      <td>2011-01-10</td>\n      <td>3</td>\n      <td>2</td>\n      <td>2</td>\n      <td>2</td>\n      <td>1720</td>\n      <td>1725</td>\n      <td>0180C4430</td>\n      <td>0180C4430</td>\n      <td>1</td>\n      <td>2011-01-10 17:20:00</td>\n      <td>2011-01-10 17:25:00</td>\n      <td>5.0</td>\n    </tr>\n    <tr>\n      <th>3938</th>\n      <td>20110111013</td>\n      <td>2011-01-10</td>\n      <td>4</td>\n      <td>1</td>\n      <td>2</td>\n      <td>2</td>\n      <td>2000</td>\n      <td>2020</td>\n      <td>0180C4430</td>\n      <td>0180C2670</td>\n      <td>10</td>\n      <td>2011-01-10 20:00:00</td>\n      <td>2011-01-10 20:20:00</td>\n      <td>20.0</td>\n    </tr>\n  </tbody>\n</table>\n</div>"
     },
     "execution_count": 15,
     "metadata": {},
     "output_type": "execute_result"
    }
   ],
   "source": [
    "df_sub_example = df_sub.loc[df_sub.sub_id == 20110111013, :].copy()\n",
    "df_sub_example"
   ],
   "metadata": {
    "collapsed": false,
    "pycharm": {
     "name": "#%%\n"
    }
   }
  },
  {
   "cell_type": "code",
   "execution_count": 117,
   "outputs": [],
   "source": [
    "date_s = df_sub_example.date.iloc[0]\n",
    "time_s = df_sub_example.origin_main_T.iloc[0]\n",
    "time_e = df_sub_example.desti_main_T.iloc[-1]\n",
    "date_e = str(time_e).split(' ')[0]"
   ],
   "metadata": {
    "collapsed": false,
    "pycharm": {
     "name": "#%%\n"
    }
   }
  },
  {
   "cell_type": "code",
   "execution_count": 118,
   "outputs": [
    {
     "data": {
      "text/plain": "('2011-01-10',\n Timestamp('2011-01-10 08:30:00'),\n Timestamp('2011-01-10 20:20:00'),\n '2011-01-10')"
     },
     "execution_count": 118,
     "metadata": {},
     "output_type": "execute_result"
    }
   ],
   "source": [
    "date_s, time_s, time_e, date_e"
   ],
   "metadata": {
    "collapsed": false,
    "pycharm": {
     "name": "#%%\n"
    }
   }
  },
  {
   "cell_type": "code",
   "execution_count": 138,
   "outputs": [],
   "source": [
    "if date_s == date_e:\n",
    "    # The date's 00:00\n",
    "    time_start = datetime.strptime(str(date_s),'%Y-%m-%d')\n",
    "    # The next date's 00:00\n",
    "    date_e_r = str(time_e + dt.timedelta(minutes=1440)).split(' ')[0]\n",
    "    time_end = datetime.strptime(date_e_r,'%Y-%m-%d')\n",
    "else:\n",
    "    # 24 hours before the end date\n",
    "    date_s_r = str(time_e - dt.timedelta(minutes=1440)).split(' ')[0]\n",
    "    time_start = datetime.strptime(str(date_s_r),'%Y-%m-%d')\n",
    "    time_end = datetime.strptime(date_e,'%Y-%m-%d')\n",
    "activity_start_times = np.insert(df_sub_example.desti_main_T.values, 0, time_start, axis=0)\n",
    "activity_end_times = np.insert(df_sub_example.origin_main_T.values, len(df_sub_example), time_end, axis=0)"
   ],
   "metadata": {
    "collapsed": false,
    "pycharm": {
     "name": "#%%\n"
    }
   }
  },
  {
   "cell_type": "code",
   "execution_count": 139,
   "outputs": [],
   "source": [
    "purposes = np.insert(df_sub_example.purpose_main.values, 0, 0, axis=0)\n",
    "purposes[len(purposes)-1] = 0"
   ],
   "metadata": {
    "collapsed": false,
    "pycharm": {
     "name": "#%%\n"
    }
   }
  },
  {
   "cell_type": "code",
   "execution_count": 140,
   "outputs": [
    {
     "data": {
      "text/plain": "            act_start             act_end  purpose\n0 2011-01-10 00:00:00 2011-01-10 08:30:00        0\n1 2011-01-10 08:50:00 2011-01-10 11:30:00        2\n2 2011-01-10 11:40:00 2011-01-10 12:20:00       16\n3 2011-01-10 12:30:00 2011-01-10 17:00:00        2\n4 2011-01-10 17:05:00 2011-01-10 17:20:00       16\n5 2011-01-10 17:25:00 2011-01-10 20:00:00        2\n6 2011-01-10 20:20:00 2011-01-11 00:00:00        0",
      "text/html": "<div>\n<style scoped>\n    .dataframe tbody tr th:only-of-type {\n        vertical-align: middle;\n    }\n\n    .dataframe tbody tr th {\n        vertical-align: top;\n    }\n\n    .dataframe thead th {\n        text-align: right;\n    }\n</style>\n<table border=\"1\" class=\"dataframe\">\n  <thead>\n    <tr style=\"text-align: right;\">\n      <th></th>\n      <th>act_start</th>\n      <th>act_end</th>\n      <th>purpose</th>\n    </tr>\n  </thead>\n  <tbody>\n    <tr>\n      <th>0</th>\n      <td>2011-01-10 00:00:00</td>\n      <td>2011-01-10 08:30:00</td>\n      <td>0</td>\n    </tr>\n    <tr>\n      <th>1</th>\n      <td>2011-01-10 08:50:00</td>\n      <td>2011-01-10 11:30:00</td>\n      <td>2</td>\n    </tr>\n    <tr>\n      <th>2</th>\n      <td>2011-01-10 11:40:00</td>\n      <td>2011-01-10 12:20:00</td>\n      <td>16</td>\n    </tr>\n    <tr>\n      <th>3</th>\n      <td>2011-01-10 12:30:00</td>\n      <td>2011-01-10 17:00:00</td>\n      <td>2</td>\n    </tr>\n    <tr>\n      <th>4</th>\n      <td>2011-01-10 17:05:00</td>\n      <td>2011-01-10 17:20:00</td>\n      <td>16</td>\n    </tr>\n    <tr>\n      <th>5</th>\n      <td>2011-01-10 17:25:00</td>\n      <td>2011-01-10 20:00:00</td>\n      <td>2</td>\n    </tr>\n    <tr>\n      <th>6</th>\n      <td>2011-01-10 20:20:00</td>\n      <td>2011-01-11 00:00:00</td>\n      <td>0</td>\n    </tr>\n  </tbody>\n</table>\n</div>"
     },
     "execution_count": 140,
     "metadata": {},
     "output_type": "execute_result"
    }
   ],
   "source": [
    "df_act = pd.DataFrame()\n",
    "df_act.loc[:, 'act_start'] = activity_start_times\n",
    "df_act.loc[:, 'act_end'] = activity_end_times\n",
    "df_act.loc[:, 'purpose'] = purposes\n",
    "df_act"
   ],
   "metadata": {
    "collapsed": false,
    "pycharm": {
     "name": "#%%\n"
    }
   }
  },
  {
   "cell_type": "markdown",
   "source": [
    "### 3.2.1 Activity conversion"
   ],
   "metadata": {
    "collapsed": false,
    "pycharm": {
     "name": "#%% md\n"
    }
   }
  },
  {
   "cell_type": "code",
   "execution_count": 20,
   "outputs": [],
   "source": [
    "def trips2activities(data):\n",
    "    # Start and end time\n",
    "    date_s = data.date.iloc[0]\n",
    "    time_e = data.desti_main_T.iloc[-1]\n",
    "    date_e = str(time_e).split(' ')[0]\n",
    "    if date_s == date_e:\n",
    "        # The date's 00:00\n",
    "        time_start = datetime.strptime(str(date_s),'%Y-%m-%d')\n",
    "        # The next date's 00:00\n",
    "        date_e_r = str(time_e + dt.timedelta(minutes=1440)).split(' ')[0]\n",
    "        time_end = datetime.strptime(date_e_r,'%Y-%m-%d')\n",
    "    else:\n",
    "        # 24 hours before the end date\n",
    "        date_s_r = str(time_e - dt.timedelta(minutes=1440)).split(' ')[0]\n",
    "        time_start = datetime.strptime(str(date_s_r),'%Y-%m-%d')\n",
    "        time_end = datetime.strptime(date_e,'%Y-%m-%d')\n",
    "    activity_start_times = np.insert(data.desti_main_T.values, 0, time_start, axis=0)\n",
    "    activity_end_times = np.insert(data.origin_main_T.values, len(data), time_end, axis=0)\n",
    "    # Purpose\n",
    "    purposes = np.insert(data.purpose_main.values, 0, 0, axis=0)\n",
    "    purposes[len(purposes)-1] = 0\n",
    "    # DeSO zone\n",
    "    zones = np.insert(data.desti_main_deso.values, 0, data.origin_main_deso.iloc[0], axis=0)\n",
    "    # Create a dataframe\n",
    "    df_act = pd.DataFrame()\n",
    "    df_act.loc[:, 'act_start'] = activity_start_times\n",
    "    df_act.loc[:, 'act_end'] = activity_end_times\n",
    "    df_act.loc[:, 'purpose'] = purposes\n",
    "    df_act.loc[:, 'zone'] = zones\n",
    "    return df_act"
   ],
   "metadata": {
    "collapsed": false,
    "pycharm": {
     "name": "#%%\n"
    }
   }
  },
  {
   "cell_type": "code",
   "execution_count": 21,
   "outputs": [
    {
     "name": "stderr",
     "output_type": "stream",
     "text": [
      "100%|██████████| 22899/22899 [01:37<00:00, 233.80it/s]\n"
     ]
    }
   ],
   "source": [
    "tqdm.pandas()\n",
    "df_act = df_sub.groupby('sub_id').progress_apply(trips2activities).reset_index()"
   ],
   "metadata": {
    "collapsed": false,
    "pycharm": {
     "name": "#%%\n"
    }
   }
  },
  {
   "cell_type": "code",
   "execution_count": 22,
   "outputs": [],
   "source": [
    "df_act = df_act.drop(columns=['level_1'])"
   ],
   "metadata": {
    "collapsed": false,
    "pycharm": {
     "name": "#%%\n"
    }
   }
  },
  {
   "cell_type": "code",
   "execution_count": 23,
   "outputs": [
    {
     "data": {
      "text/plain": "        sub_id           act_start             act_end  purpose       zone  \\\n0  20110111013 2011-01-10 00:00:00 2011-01-10 08:30:00        0  0180C2670   \n1  20110111013 2011-01-10 08:50:00 2011-01-10 11:30:00        2  0180C4430   \n2  20110111013 2011-01-10 11:40:00 2011-01-10 12:20:00       16  0180C4870   \n3  20110111013 2011-01-10 12:30:00 2011-01-10 17:00:00        2  0180C4430   \n4  20110111013 2011-01-10 17:05:00 2011-01-10 17:20:00       16  0180C4430   \n\n    h_s   h_e    dur  \n0     0   510  510.0  \n1   530   690  160.0  \n2   700   740   40.0  \n3   750  1020  270.0  \n4  1025  1040   15.0  ",
      "text/html": "<div>\n<style scoped>\n    .dataframe tbody tr th:only-of-type {\n        vertical-align: middle;\n    }\n\n    .dataframe tbody tr th {\n        vertical-align: top;\n    }\n\n    .dataframe thead th {\n        text-align: right;\n    }\n</style>\n<table border=\"1\" class=\"dataframe\">\n  <thead>\n    <tr style=\"text-align: right;\">\n      <th></th>\n      <th>sub_id</th>\n      <th>act_start</th>\n      <th>act_end</th>\n      <th>purpose</th>\n      <th>zone</th>\n      <th>h_s</th>\n      <th>h_e</th>\n      <th>dur</th>\n    </tr>\n  </thead>\n  <tbody>\n    <tr>\n      <th>0</th>\n      <td>20110111013</td>\n      <td>2011-01-10 00:00:00</td>\n      <td>2011-01-10 08:30:00</td>\n      <td>0</td>\n      <td>0180C2670</td>\n      <td>0</td>\n      <td>510</td>\n      <td>510.0</td>\n    </tr>\n    <tr>\n      <th>1</th>\n      <td>20110111013</td>\n      <td>2011-01-10 08:50:00</td>\n      <td>2011-01-10 11:30:00</td>\n      <td>2</td>\n      <td>0180C4430</td>\n      <td>530</td>\n      <td>690</td>\n      <td>160.0</td>\n    </tr>\n    <tr>\n      <th>2</th>\n      <td>20110111013</td>\n      <td>2011-01-10 11:40:00</td>\n      <td>2011-01-10 12:20:00</td>\n      <td>16</td>\n      <td>0180C4870</td>\n      <td>700</td>\n      <td>740</td>\n      <td>40.0</td>\n    </tr>\n    <tr>\n      <th>3</th>\n      <td>20110111013</td>\n      <td>2011-01-10 12:30:00</td>\n      <td>2011-01-10 17:00:00</td>\n      <td>2</td>\n      <td>0180C4430</td>\n      <td>750</td>\n      <td>1020</td>\n      <td>270.0</td>\n    </tr>\n    <tr>\n      <th>4</th>\n      <td>20110111013</td>\n      <td>2011-01-10 17:05:00</td>\n      <td>2011-01-10 17:20:00</td>\n      <td>16</td>\n      <td>0180C4430</td>\n      <td>1025</td>\n      <td>1040</td>\n      <td>15.0</td>\n    </tr>\n  </tbody>\n</table>\n</div>"
     },
     "execution_count": 23,
     "metadata": {},
     "output_type": "execute_result"
    }
   ],
   "source": [
    "df_act.loc[:, 'h_s'] = df_act.loc[:, 'act_start'].apply(lambda x: x.hour * 60 + x.minute)\n",
    "df_act.loc[:, 'h_e'] = df_act.loc[:, 'act_end'].apply(lambda x: x.hour * 60 + x.minute)\n",
    "df_act.loc[:, 'dur'] = df_act['act_end'] - df_act['act_start']\n",
    "df_act.loc[:, 'dur'] = df_act.loc[:, 'dur'].apply(lambda x: x.total_seconds() / 60)\n",
    "df_act.head()"
   ],
   "metadata": {
    "collapsed": false,
    "pycharm": {
     "name": "#%%\n"
    }
   }
  },
  {
   "cell_type": "code",
   "execution_count": 24,
   "outputs": [],
   "source": [
    "# Remove those with negative activity duration\n",
    "df_act = df_act.loc[~df_act.sub_id.isin(df_act.loc[df_act.dur <= 0,'sub_id'].unique()), :]"
   ],
   "metadata": {
    "collapsed": false,
    "pycharm": {
     "name": "#%%\n"
    }
   }
  },
  {
   "cell_type": "code",
   "execution_count": 28,
   "outputs": [],
   "source": [
    "pur_dict = {0: 'Home', 2: 'Work', 3: 'School'}\n",
    "df_act.loc[:, 'Purpose'] = df_act.loc[:, 'purpose'].apply(lambda x: pur_dict[x] if x in pur_dict else 'Other')"
   ],
   "metadata": {
    "collapsed": false,
    "pycharm": {
     "name": "#%%\n"
    }
   }
  },
  {
   "cell_type": "code",
   "execution_count": 29,
   "outputs": [],
   "source": [
    "df_act.to_csv('dbs/survey/day_act.csv', index=False)"
   ],
   "metadata": {
    "collapsed": false,
    "pycharm": {
     "name": "#%%\n"
    }
   }
  },
  {
   "cell_type": "markdown",
   "source": [
    "## 4. Create commuting matrices\n",
    "1. Municipality-level\n",
    "2. DeSO-level"
   ],
   "metadata": {
    "collapsed": false,
    "pycharm": {
     "name": "#%% md\n"
    }
   }
  },
  {
   "cell_type": "code",
   "execution_count": 10,
   "outputs": [
    {
     "data": {
      "text/plain": "38258"
     },
     "execution_count": 10,
     "metadata": {},
     "output_type": "execute_result"
    }
   ],
   "source": [
    "df = pd.read_csv(\"dbs/survey/day_trips.csv\", encoding=\"latin-1\")\n",
    "df = df.drop_duplicates(subset=['sub_id'])\n",
    "df = df.loc[:, [\"sub_id\", \"sub_weight\", 'home_deso', 'home_municipality', 'workplace_deso', 'workplace_municipality']]\n",
    "len(df)"
   ],
   "metadata": {
    "collapsed": false,
    "pycharm": {
     "name": "#%%\n"
    }
   }
  },
  {
   "cell_type": "markdown",
   "source": [
    "### 4.1 Municipality level"
   ],
   "metadata": {
    "collapsed": false,
    "pycharm": {
     "name": "#%% md\n"
    }
   }
  },
  {
   "cell_type": "code",
   "execution_count": 13,
   "outputs": [
    {
     "data": {
      "text/plain": "19666"
     },
     "execution_count": 13,
     "metadata": {},
     "output_type": "execute_result"
    }
   ],
   "source": [
    "df_mu = df[(df['home_municipality'].notna())&(df['workplace_municipality'].notna())]\n",
    "len(df_mu)"
   ],
   "metadata": {
    "collapsed": false,
    "pycharm": {
     "name": "#%%\n"
    }
   }
  },
  {
   "cell_type": "code",
   "execution_count": 14,
   "outputs": [],
   "source": [
    "df_od = df_mu.groupby([\"home_municipality\", \"workplace_municipality\"])[\"sub_weight\"].sum().reset_index()\n",
    "df_od.columns = [\"ozone\", \"dzone\", \"sv_commute\"]\n",
    "df_od.to_csv('dbs/survey/commute_od_municipality.csv', index=False, encoding='latin-1')"
   ],
   "metadata": {
    "collapsed": false,
    "pycharm": {
     "name": "#%%\n"
    }
   }
  },
  {
   "cell_type": "markdown",
   "source": [
    "### 4.2 DeSO zone level"
   ],
   "metadata": {
    "collapsed": false,
    "pycharm": {
     "name": "#%% md\n"
    }
   }
  },
  {
   "cell_type": "code",
   "execution_count": 15,
   "outputs": [
    {
     "data": {
      "text/plain": "16200"
     },
     "execution_count": 15,
     "metadata": {},
     "output_type": "execute_result"
    }
   ],
   "source": [
    "df_mu = df[(df['home_deso'].notna())&(df['workplace_deso'].notna())]\n",
    "len(df_mu)"
   ],
   "metadata": {
    "collapsed": false,
    "pycharm": {
     "name": "#%%\n"
    }
   }
  },
  {
   "cell_type": "code",
   "execution_count": 16,
   "outputs": [],
   "source": [
    "df_od = df_mu.groupby([\"home_deso\", \"workplace_deso\"])[\"sub_weight\"].sum().reset_index()\n",
    "df_od.columns = [\"ozone\", \"dzone\", \"sv_commute\"]\n",
    "df_od.to_csv('dbs/survey/commute_od_deso.csv', index=False, encoding='latin-1')"
   ],
   "metadata": {
    "collapsed": false,
    "pycharm": {
     "name": "#%%\n"
    }
   }
  },
  {
   "cell_type": "markdown",
   "source": [
    "## 5. Create overall matrices\n",
    "1. Municipality-level\n",
    "2. DeSO-level"
   ],
   "metadata": {
    "collapsed": false,
    "pycharm": {
     "name": "#%% md\n"
    }
   }
  },
  {
   "cell_type": "code",
   "execution_count": 3,
   "outputs": [
    {
     "data": {
      "text/plain": "38258"
     },
     "execution_count": 3,
     "metadata": {},
     "output_type": "execute_result"
    }
   ],
   "source": [
    "df = pd.read_csv(\"dbs/survey/day_trips.csv\", encoding=\"latin-1\")\n",
    "df = df.drop_duplicates(subset=['sub_id'])\n",
    "df = df.loc[:, [\"sub_id\", \"sub_weight\", 'origin_main_deso', 'desti_main_deso',\n",
    "                'origin_main_municipality', 'desti_main_municipality']]\n",
    "len(df)"
   ],
   "metadata": {
    "collapsed": false,
    "pycharm": {
     "name": "#%%\n"
    }
   }
  },
  {
   "cell_type": "markdown",
   "source": [
    "### 5.1 Municipality level"
   ],
   "metadata": {
    "collapsed": false,
    "pycharm": {
     "name": "#%% md\n"
    }
   }
  },
  {
   "cell_type": "code",
   "execution_count": 4,
   "outputs": [
    {
     "data": {
      "text/plain": "37831"
     },
     "execution_count": 4,
     "metadata": {},
     "output_type": "execute_result"
    }
   ],
   "source": [
    "df_mu = df[(df['origin_main_municipality'].notna())&(df['desti_main_municipality'].notna())]\n",
    "len(df_mu)"
   ],
   "metadata": {
    "collapsed": false,
    "pycharm": {
     "name": "#%%\n"
    }
   }
  },
  {
   "cell_type": "code",
   "execution_count": 9,
   "outputs": [],
   "source": [
    "df_od = df_mu.groupby([\"origin_main_municipality\", \"desti_main_municipality\"])[\"sub_weight\"].sum().reset_index()\n",
    "df_od.columns = [\"ozone\", \"dzone\", \"sv\"]\n",
    "df_od = df_od.astype({'ozone':'int', 'dzone':'int'})\n",
    "df_od.to_csv('dbs/survey/od_municipality.csv', index=False, encoding='latin-1')"
   ],
   "metadata": {
    "collapsed": false,
    "pycharm": {
     "name": "#%%\n"
    }
   }
  },
  {
   "cell_type": "markdown",
   "source": [],
   "metadata": {
    "collapsed": false,
    "pycharm": {
     "name": "#%% md\n"
    }
   }
  },
  {
   "cell_type": "code",
   "source": [
    "df_mu = df[(df['origin_main_deso'].notna())&(df['desti_main_deso'].notna())]\n",
    "len(df_mu)"
   ],
   "metadata": {
    "collapsed": false,
    "pycharm": {
     "name": "#%%\n"
    }
   },
   "execution_count": 11,
   "outputs": [
    {
     "data": {
      "text/plain": "29879"
     },
     "execution_count": 11,
     "metadata": {},
     "output_type": "execute_result"
    }
   ]
  },
  {
   "cell_type": "code",
   "execution_count": 13,
   "outputs": [],
   "source": [
    "df_od = df_mu.groupby([\"origin_main_deso\", \"desti_main_deso\"])[\"sub_weight\"].sum().reset_index()\n",
    "df_od.columns = [\"ozone\", \"dzone\", \"sv\"]\n",
    "df_od.to_csv('dbs/survey/od_deso.csv', index=False, encoding='latin-1')"
   ],
   "metadata": {
    "collapsed": false,
    "pycharm": {
     "name": "#%%\n"
    }
   }
  }
 ],
 "metadata": {
  "kernelspec": {
   "display_name": "Python 3",
   "language": "python",
   "name": "python3"
  },
  "language_info": {
   "codemirror_mode": {
    "name": "ipython",
    "version": 2
   },
   "file_extension": ".py",
   "mimetype": "text/x-python",
   "name": "python",
   "nbconvert_exporter": "python",
   "pygments_lexer": "ipython2",
   "version": "2.7.6"
  }
 },
 "nbformat": 4,
 "nbformat_minor": 0
}