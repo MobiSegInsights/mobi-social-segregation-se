{
 "cells": [
  {
   "cell_type": "markdown",
   "metadata": {
    "collapsed": true,
    "pycharm": {
     "name": "#%% md\n"
    }
   },
   "source": [
    "# Process GAM model results"
   ]
  },
  {
   "cell_type": "code",
   "execution_count": 1,
   "outputs": [
    {
     "name": "stdout",
     "output_type": "stream",
     "text": [
      "D:\\mobi-social-segregation-se\n"
     ]
    }
   ],
   "source": [
    "%load_ext autoreload\n",
    "%autoreload 2\n",
    "%cd D:\\mobi-social-segregation-se"
   ],
   "metadata": {
    "collapsed": false,
    "pycharm": {
     "name": "#%%\n"
    }
   }
  },
  {
   "cell_type": "code",
   "execution_count": 40,
   "outputs": [],
   "source": [
    "# Load libs\n",
    "import pandas as pd\n",
    "from lib import helpers"
   ],
   "metadata": {
    "collapsed": false,
    "pycharm": {
     "name": "#%%\n"
    }
   }
  },
  {
   "cell_type": "markdown",
   "source": [
    "## 1. Go through the three models"
   ],
   "metadata": {
    "collapsed": false,
    "pycharm": {
     "name": "#%% md\n"
    }
   }
  },
  {
   "cell_type": "code",
   "execution_count": 46,
   "outputs": [
    {
     "name": "stdout",
     "output_type": "stream",
     "text": [
      "Label low, middle, and high income.\n",
      "Label low, middle, and high income.\n",
      "Label low, middle, and high income.\n"
     ]
    }
   ],
   "source": [
    "perf_dict_list = []\n",
    "for md, s in zip(('all', 'low_income', 'high_income'),\n",
    "                 ('all', 'Low income', 'High income')):\n",
    "    path2result = f'D:/mobi-social-segregation-se/results/ebm/'\n",
    "    gam_results = helpers.EBMResultsOrganizer(file_loc=path2result + f'model_{md}.p')\n",
    "    gam_results.load_raw_data(select=s)\n",
    "\n",
    "    # Feature performance\n",
    "    perf = gam_results.performance()\n",
    "    perf['model'] = md\n",
    "    perf_dict_list.append(perf)\n",
    "\n",
    "    # Feature importance\n",
    "    df_f = gam_results.feature_importance()\n",
    "    df_f.to_csv(f'results/ebm/{md}/f_score.csv', index=False)\n",
    "\n",
    "    # Load feature effects\n",
    "    gam_results.feature_scores()\n",
    "    df_fscore_f = gam_results.single_feature_effect()\n",
    "    df_fscore_f.to_csv(f'results/ebm/{md}/features.csv', index=False)\n",
    "    interaction_path = f'D:/mobi-social-segregation-se/results/ebm/{md}/interactions/'\n",
    "    gam_results.interection_effect(path2save=interaction_path)"
   ],
   "metadata": {
    "collapsed": false,
    "pycharm": {
     "name": "#%%\n"
    }
   }
  },
  {
   "cell_type": "code",
   "execution_count": 47,
   "outputs": [
    {
     "data": {
      "text/plain": "   rmse_train  r2_train  rmse_test   r2_test        model\n0    0.064368  0.347802   0.064110  0.348418          all\n1    0.072892  0.485120   0.072824  0.490872   low_income\n2    0.063057  0.291117   0.062901  0.278699  high_income",
      "text/html": "<div>\n<style scoped>\n    .dataframe tbody tr th:only-of-type {\n        vertical-align: middle;\n    }\n\n    .dataframe tbody tr th {\n        vertical-align: top;\n    }\n\n    .dataframe thead th {\n        text-align: right;\n    }\n</style>\n<table border=\"1\" class=\"dataframe\">\n  <thead>\n    <tr style=\"text-align: right;\">\n      <th></th>\n      <th>rmse_train</th>\n      <th>r2_train</th>\n      <th>rmse_test</th>\n      <th>r2_test</th>\n      <th>model</th>\n    </tr>\n  </thead>\n  <tbody>\n    <tr>\n      <th>0</th>\n      <td>0.064368</td>\n      <td>0.347802</td>\n      <td>0.064110</td>\n      <td>0.348418</td>\n      <td>all</td>\n    </tr>\n    <tr>\n      <th>1</th>\n      <td>0.072892</td>\n      <td>0.485120</td>\n      <td>0.072824</td>\n      <td>0.490872</td>\n      <td>low_income</td>\n    </tr>\n    <tr>\n      <th>2</th>\n      <td>0.063057</td>\n      <td>0.291117</td>\n      <td>0.062901</td>\n      <td>0.278699</td>\n      <td>high_income</td>\n    </tr>\n  </tbody>\n</table>\n</div>"
     },
     "execution_count": 47,
     "metadata": {},
     "output_type": "execute_result"
    }
   ],
   "source": [
    "df_perf = pd.DataFrame(perf_dict_list)\n",
    "df_perf"
   ],
   "metadata": {
    "collapsed": false,
    "pycharm": {
     "name": "#%%\n"
    }
   }
  },
  {
   "cell_type": "markdown",
   "source": [
    "## 2. Feature importance"
   ],
   "metadata": {
    "collapsed": false,
    "pycharm": {
     "name": "#%% md\n"
    }
   }
  },
  {
   "cell_type": "code",
   "execution_count": 75,
   "outputs": [
    {
     "data": {
      "text/plain": "                                                 Name      Color     Score  \\\n0                           Prob. born outside Sweden  steelblue  0.013175   \n1                           Median distance from home      coral  0.011661   \n2                        Prob. in lowest income group  steelblue  0.011375   \n3                      Residential income segregation  steelblue  0.008986   \n4                            Job accessibility by car  darkgreen  0.008485   \n5                     No. of unique locations visited      coral  0.007472   \n6                    Transit accessibility by walking  darkgreen  0.007136   \n7                               Prob. of owning a car  steelblue  0.007021   \n8                            Job density at residence  darkgreen  0.006594   \n9                                Average displacement      coral  0.006176   \n10                                   GSI at residence  darkgreen  0.006167   \n11            Pedestrian network density at residence  darkgreen  0.005957   \n12                                 Radius of gyration      coral  0.004875   \n13  Median distance from home & Prob. born outside...      black  0.004768   \n14                                      No. of visits      coral  0.004388   \n15  Prob. of owning a car & Residential income seg...      black  0.003335   \n16                                        Non-holiday     purple  0.003328   \n17                                            Holiday     purple  0.003294   \n18  Prob. in lowest income group & Prob. of owning...      black  0.003256   \n19  Median distance from home & Job accessibility ...      black  0.002910   \n20                  Transit stop density at residence  darkgreen  0.002767   \n21  Median distance from home & Residential income...      black  0.002270   \n22                                            Weekend     purple  0.001049   \n23                                            Weekday     purple  0.001039   \n0                     No. of unique locations visited      coral  0.008585   \n1                            Job density at residence  darkgreen  0.006398   \n2                            Job accessibility by car  darkgreen  0.005881   \n3                        Prob. in lowest income group  steelblue  0.005530   \n4                      Residential income segregation  steelblue  0.005492   \n5                                Average displacement      coral  0.004350   \n6             Pedestrian network density at residence  darkgreen  0.004186   \n7                    Transit accessibility by walking  darkgreen  0.003824   \n8                               Prob. of owning a car  steelblue  0.003514   \n9                           Median distance from home      coral  0.003475   \n10                                        Non-holiday     purple  0.003189   \n11                                            Holiday     purple  0.003157   \n12                          Prob. born outside Sweden  steelblue  0.002899   \n13                                 Radius of gyration      coral  0.002519   \n14                                      No. of visits      coral  0.002134   \n15                                   GSI at residence  darkgreen  0.002115   \n16                  Transit stop density at residence  darkgreen  0.001786   \n17  Median distance from home & Job accessibility ...      black  0.001485   \n18  Job accessibility by car & Pedestrian network ...      black  0.001453   \n19   Prob. of owning a car & Job accessibility by car      black  0.001348   \n20        Job accessibility by car & GSI at residence      black  0.001272   \n21  Prob. in lowest income group & Residential inc...      black  0.001262   \n22                                            Weekend     purple  0.000996   \n23                                            Weekday     purple  0.000986   \n\n   Income group  Rank  \n0    Low income     1  \n1    Low income     2  \n2    Low income     3  \n3    Low income     4  \n4    Low income     5  \n5    Low income     6  \n6    Low income     7  \n7    Low income     8  \n8    Low income     9  \n9    Low income    10  \n10   Low income    11  \n11   Low income    12  \n12   Low income    13  \n13   Low income    14  \n14   Low income    15  \n15   Low income    16  \n16   Low income    17  \n17   Low income    18  \n18   Low income    19  \n19   Low income    20  \n20   Low income    21  \n21   Low income    22  \n22   Low income    23  \n23   Low income    24  \n0   High income     1  \n1   High income     2  \n2   High income     3  \n3   High income     4  \n4   High income     5  \n5   High income     6  \n6   High income     7  \n7   High income     8  \n8   High income     9  \n9   High income    10  \n10  High income    11  \n11  High income    12  \n12  High income    13  \n13  High income    14  \n14  High income    15  \n15  High income    16  \n16  High income    17  \n17  High income    18  \n18  High income    19  \n19  High income    20  \n20  High income    21  \n21  High income    22  \n22  High income    23  \n23  High income    24  ",
      "text/html": "<div>\n<style scoped>\n    .dataframe tbody tr th:only-of-type {\n        vertical-align: middle;\n    }\n\n    .dataframe tbody tr th {\n        vertical-align: top;\n    }\n\n    .dataframe thead th {\n        text-align: right;\n    }\n</style>\n<table border=\"1\" class=\"dataframe\">\n  <thead>\n    <tr style=\"text-align: right;\">\n      <th></th>\n      <th>Name</th>\n      <th>Color</th>\n      <th>Score</th>\n      <th>Income group</th>\n      <th>Rank</th>\n    </tr>\n  </thead>\n  <tbody>\n    <tr>\n      <th>0</th>\n      <td>Prob. born outside Sweden</td>\n      <td>steelblue</td>\n      <td>0.013175</td>\n      <td>Low income</td>\n      <td>1</td>\n    </tr>\n    <tr>\n      <th>1</th>\n      <td>Median distance from home</td>\n      <td>coral</td>\n      <td>0.011661</td>\n      <td>Low income</td>\n      <td>2</td>\n    </tr>\n    <tr>\n      <th>2</th>\n      <td>Prob. in lowest income group</td>\n      <td>steelblue</td>\n      <td>0.011375</td>\n      <td>Low income</td>\n      <td>3</td>\n    </tr>\n    <tr>\n      <th>3</th>\n      <td>Residential income segregation</td>\n      <td>steelblue</td>\n      <td>0.008986</td>\n      <td>Low income</td>\n      <td>4</td>\n    </tr>\n    <tr>\n      <th>4</th>\n      <td>Job accessibility by car</td>\n      <td>darkgreen</td>\n      <td>0.008485</td>\n      <td>Low income</td>\n      <td>5</td>\n    </tr>\n    <tr>\n      <th>5</th>\n      <td>No. of unique locations visited</td>\n      <td>coral</td>\n      <td>0.007472</td>\n      <td>Low income</td>\n      <td>6</td>\n    </tr>\n    <tr>\n      <th>6</th>\n      <td>Transit accessibility by walking</td>\n      <td>darkgreen</td>\n      <td>0.007136</td>\n      <td>Low income</td>\n      <td>7</td>\n    </tr>\n    <tr>\n      <th>7</th>\n      <td>Prob. of owning a car</td>\n      <td>steelblue</td>\n      <td>0.007021</td>\n      <td>Low income</td>\n      <td>8</td>\n    </tr>\n    <tr>\n      <th>8</th>\n      <td>Job density at residence</td>\n      <td>darkgreen</td>\n      <td>0.006594</td>\n      <td>Low income</td>\n      <td>9</td>\n    </tr>\n    <tr>\n      <th>9</th>\n      <td>Average displacement</td>\n      <td>coral</td>\n      <td>0.006176</td>\n      <td>Low income</td>\n      <td>10</td>\n    </tr>\n    <tr>\n      <th>10</th>\n      <td>GSI at residence</td>\n      <td>darkgreen</td>\n      <td>0.006167</td>\n      <td>Low income</td>\n      <td>11</td>\n    </tr>\n    <tr>\n      <th>11</th>\n      <td>Pedestrian network density at residence</td>\n      <td>darkgreen</td>\n      <td>0.005957</td>\n      <td>Low income</td>\n      <td>12</td>\n    </tr>\n    <tr>\n      <th>12</th>\n      <td>Radius of gyration</td>\n      <td>coral</td>\n      <td>0.004875</td>\n      <td>Low income</td>\n      <td>13</td>\n    </tr>\n    <tr>\n      <th>13</th>\n      <td>Median distance from home &amp; Prob. born outside...</td>\n      <td>black</td>\n      <td>0.004768</td>\n      <td>Low income</td>\n      <td>14</td>\n    </tr>\n    <tr>\n      <th>14</th>\n      <td>No. of visits</td>\n      <td>coral</td>\n      <td>0.004388</td>\n      <td>Low income</td>\n      <td>15</td>\n    </tr>\n    <tr>\n      <th>15</th>\n      <td>Prob. of owning a car &amp; Residential income seg...</td>\n      <td>black</td>\n      <td>0.003335</td>\n      <td>Low income</td>\n      <td>16</td>\n    </tr>\n    <tr>\n      <th>16</th>\n      <td>Non-holiday</td>\n      <td>purple</td>\n      <td>0.003328</td>\n      <td>Low income</td>\n      <td>17</td>\n    </tr>\n    <tr>\n      <th>17</th>\n      <td>Holiday</td>\n      <td>purple</td>\n      <td>0.003294</td>\n      <td>Low income</td>\n      <td>18</td>\n    </tr>\n    <tr>\n      <th>18</th>\n      <td>Prob. in lowest income group &amp; Prob. of owning...</td>\n      <td>black</td>\n      <td>0.003256</td>\n      <td>Low income</td>\n      <td>19</td>\n    </tr>\n    <tr>\n      <th>19</th>\n      <td>Median distance from home &amp; Job accessibility ...</td>\n      <td>black</td>\n      <td>0.002910</td>\n      <td>Low income</td>\n      <td>20</td>\n    </tr>\n    <tr>\n      <th>20</th>\n      <td>Transit stop density at residence</td>\n      <td>darkgreen</td>\n      <td>0.002767</td>\n      <td>Low income</td>\n      <td>21</td>\n    </tr>\n    <tr>\n      <th>21</th>\n      <td>Median distance from home &amp; Residential income...</td>\n      <td>black</td>\n      <td>0.002270</td>\n      <td>Low income</td>\n      <td>22</td>\n    </tr>\n    <tr>\n      <th>22</th>\n      <td>Weekend</td>\n      <td>purple</td>\n      <td>0.001049</td>\n      <td>Low income</td>\n      <td>23</td>\n    </tr>\n    <tr>\n      <th>23</th>\n      <td>Weekday</td>\n      <td>purple</td>\n      <td>0.001039</td>\n      <td>Low income</td>\n      <td>24</td>\n    </tr>\n    <tr>\n      <th>0</th>\n      <td>No. of unique locations visited</td>\n      <td>coral</td>\n      <td>0.008585</td>\n      <td>High income</td>\n      <td>1</td>\n    </tr>\n    <tr>\n      <th>1</th>\n      <td>Job density at residence</td>\n      <td>darkgreen</td>\n      <td>0.006398</td>\n      <td>High income</td>\n      <td>2</td>\n    </tr>\n    <tr>\n      <th>2</th>\n      <td>Job accessibility by car</td>\n      <td>darkgreen</td>\n      <td>0.005881</td>\n      <td>High income</td>\n      <td>3</td>\n    </tr>\n    <tr>\n      <th>3</th>\n      <td>Prob. in lowest income group</td>\n      <td>steelblue</td>\n      <td>0.005530</td>\n      <td>High income</td>\n      <td>4</td>\n    </tr>\n    <tr>\n      <th>4</th>\n      <td>Residential income segregation</td>\n      <td>steelblue</td>\n      <td>0.005492</td>\n      <td>High income</td>\n      <td>5</td>\n    </tr>\n    <tr>\n      <th>5</th>\n      <td>Average displacement</td>\n      <td>coral</td>\n      <td>0.004350</td>\n      <td>High income</td>\n      <td>6</td>\n    </tr>\n    <tr>\n      <th>6</th>\n      <td>Pedestrian network density at residence</td>\n      <td>darkgreen</td>\n      <td>0.004186</td>\n      <td>High income</td>\n      <td>7</td>\n    </tr>\n    <tr>\n      <th>7</th>\n      <td>Transit accessibility by walking</td>\n      <td>darkgreen</td>\n      <td>0.003824</td>\n      <td>High income</td>\n      <td>8</td>\n    </tr>\n    <tr>\n      <th>8</th>\n      <td>Prob. of owning a car</td>\n      <td>steelblue</td>\n      <td>0.003514</td>\n      <td>High income</td>\n      <td>9</td>\n    </tr>\n    <tr>\n      <th>9</th>\n      <td>Median distance from home</td>\n      <td>coral</td>\n      <td>0.003475</td>\n      <td>High income</td>\n      <td>10</td>\n    </tr>\n    <tr>\n      <th>10</th>\n      <td>Non-holiday</td>\n      <td>purple</td>\n      <td>0.003189</td>\n      <td>High income</td>\n      <td>11</td>\n    </tr>\n    <tr>\n      <th>11</th>\n      <td>Holiday</td>\n      <td>purple</td>\n      <td>0.003157</td>\n      <td>High income</td>\n      <td>12</td>\n    </tr>\n    <tr>\n      <th>12</th>\n      <td>Prob. born outside Sweden</td>\n      <td>steelblue</td>\n      <td>0.002899</td>\n      <td>High income</td>\n      <td>13</td>\n    </tr>\n    <tr>\n      <th>13</th>\n      <td>Radius of gyration</td>\n      <td>coral</td>\n      <td>0.002519</td>\n      <td>High income</td>\n      <td>14</td>\n    </tr>\n    <tr>\n      <th>14</th>\n      <td>No. of visits</td>\n      <td>coral</td>\n      <td>0.002134</td>\n      <td>High income</td>\n      <td>15</td>\n    </tr>\n    <tr>\n      <th>15</th>\n      <td>GSI at residence</td>\n      <td>darkgreen</td>\n      <td>0.002115</td>\n      <td>High income</td>\n      <td>16</td>\n    </tr>\n    <tr>\n      <th>16</th>\n      <td>Transit stop density at residence</td>\n      <td>darkgreen</td>\n      <td>0.001786</td>\n      <td>High income</td>\n      <td>17</td>\n    </tr>\n    <tr>\n      <th>17</th>\n      <td>Median distance from home &amp; Job accessibility ...</td>\n      <td>black</td>\n      <td>0.001485</td>\n      <td>High income</td>\n      <td>18</td>\n    </tr>\n    <tr>\n      <th>18</th>\n      <td>Job accessibility by car &amp; Pedestrian network ...</td>\n      <td>black</td>\n      <td>0.001453</td>\n      <td>High income</td>\n      <td>19</td>\n    </tr>\n    <tr>\n      <th>19</th>\n      <td>Prob. of owning a car &amp; Job accessibility by car</td>\n      <td>black</td>\n      <td>0.001348</td>\n      <td>High income</td>\n      <td>20</td>\n    </tr>\n    <tr>\n      <th>20</th>\n      <td>Job accessibility by car &amp; GSI at residence</td>\n      <td>black</td>\n      <td>0.001272</td>\n      <td>High income</td>\n      <td>21</td>\n    </tr>\n    <tr>\n      <th>21</th>\n      <td>Prob. in lowest income group &amp; Residential inc...</td>\n      <td>black</td>\n      <td>0.001262</td>\n      <td>High income</td>\n      <td>22</td>\n    </tr>\n    <tr>\n      <th>22</th>\n      <td>Weekend</td>\n      <td>purple</td>\n      <td>0.000996</td>\n      <td>High income</td>\n      <td>23</td>\n    </tr>\n    <tr>\n      <th>23</th>\n      <td>Weekday</td>\n      <td>purple</td>\n      <td>0.000986</td>\n      <td>High income</td>\n      <td>24</td>\n    </tr>\n  </tbody>\n</table>\n</div>"
     },
     "execution_count": 75,
     "metadata": {},
     "output_type": "execute_result"
    }
   ],
   "source": [
    "df_list = []\n",
    "for md, s in zip(('low_income', 'high_income'),\n",
    "                 ('Low income', 'High income')):\n",
    "    df = pd.read_csv(f'results/ebm/{md}/f_score.csv')\n",
    "    df.loc[:, 'Income group'] = s\n",
    "    df.loc[:, 'Rank'] = range(1, len(df) + 1)\n",
    "    df_list.append(df)\n",
    "df_f = pd.concat(df_list).sort_values(by=['Income group', 'Score', 'Name'], ascending=False)\n",
    "features2keep = df_f.loc[df_f.Rank < 11, 'Name'].unique()\n",
    "df_f"
   ],
   "metadata": {
    "collapsed": false,
    "pycharm": {
     "name": "#%%\n"
    }
   }
  },
  {
   "cell_type": "code",
   "source": [
    "df_f2plot = pd.merge(df_f[df_f['Income group'] == 'Low income'].\n",
    "                drop(columns=['Income group']).\n",
    "                rename(columns={'Score': 'Low income'}),\n",
    "                df_f[df_f['Income group'] == 'High income'].\n",
    "                drop(columns=['Income group', 'Rank']).\n",
    "                rename(columns={'Score': 'High income'}),\n",
    "                on=['Name', 'Color'],\n",
    "                how='outer').fillna(0)\n",
    "df_f2plot = df_f2plot.loc[df_f2plot.Name.isin(features2keep)]\n",
    "df_f2plot"
   ],
   "metadata": {
    "collapsed": false,
    "pycharm": {
     "name": "#%%\n"
    }
   },
   "execution_count": 76,
   "outputs": [
    {
     "data": {
      "text/plain": "                                       Name      Color  Low income  Rank  \\\n0                 Prob. born outside Sweden  steelblue    0.013175   1.0   \n1                 Median distance from home      coral    0.011661   2.0   \n2              Prob. in lowest income group  steelblue    0.011375   3.0   \n3            Residential income segregation  steelblue    0.008986   4.0   \n4                  Job accessibility by car  darkgreen    0.008485   5.0   \n5           No. of unique locations visited      coral    0.007472   6.0   \n6          Transit accessibility by walking  darkgreen    0.007136   7.0   \n7                     Prob. of owning a car  steelblue    0.007021   8.0   \n8                  Job density at residence  darkgreen    0.006594   9.0   \n9                      Average displacement      coral    0.006176  10.0   \n11  Pedestrian network density at residence  darkgreen    0.005957  12.0   \n\n    High income  \n0      0.002899  \n1      0.003475  \n2      0.005530  \n3      0.005492  \n4      0.005881  \n5      0.008585  \n6      0.003824  \n7      0.003514  \n8      0.006398  \n9      0.004350  \n11     0.004186  ",
      "text/html": "<div>\n<style scoped>\n    .dataframe tbody tr th:only-of-type {\n        vertical-align: middle;\n    }\n\n    .dataframe tbody tr th {\n        vertical-align: top;\n    }\n\n    .dataframe thead th {\n        text-align: right;\n    }\n</style>\n<table border=\"1\" class=\"dataframe\">\n  <thead>\n    <tr style=\"text-align: right;\">\n      <th></th>\n      <th>Name</th>\n      <th>Color</th>\n      <th>Low income</th>\n      <th>Rank</th>\n      <th>High income</th>\n    </tr>\n  </thead>\n  <tbody>\n    <tr>\n      <th>0</th>\n      <td>Prob. born outside Sweden</td>\n      <td>steelblue</td>\n      <td>0.013175</td>\n      <td>1.0</td>\n      <td>0.002899</td>\n    </tr>\n    <tr>\n      <th>1</th>\n      <td>Median distance from home</td>\n      <td>coral</td>\n      <td>0.011661</td>\n      <td>2.0</td>\n      <td>0.003475</td>\n    </tr>\n    <tr>\n      <th>2</th>\n      <td>Prob. in lowest income group</td>\n      <td>steelblue</td>\n      <td>0.011375</td>\n      <td>3.0</td>\n      <td>0.005530</td>\n    </tr>\n    <tr>\n      <th>3</th>\n      <td>Residential income segregation</td>\n      <td>steelblue</td>\n      <td>0.008986</td>\n      <td>4.0</td>\n      <td>0.005492</td>\n    </tr>\n    <tr>\n      <th>4</th>\n      <td>Job accessibility by car</td>\n      <td>darkgreen</td>\n      <td>0.008485</td>\n      <td>5.0</td>\n      <td>0.005881</td>\n    </tr>\n    <tr>\n      <th>5</th>\n      <td>No. of unique locations visited</td>\n      <td>coral</td>\n      <td>0.007472</td>\n      <td>6.0</td>\n      <td>0.008585</td>\n    </tr>\n    <tr>\n      <th>6</th>\n      <td>Transit accessibility by walking</td>\n      <td>darkgreen</td>\n      <td>0.007136</td>\n      <td>7.0</td>\n      <td>0.003824</td>\n    </tr>\n    <tr>\n      <th>7</th>\n      <td>Prob. of owning a car</td>\n      <td>steelblue</td>\n      <td>0.007021</td>\n      <td>8.0</td>\n      <td>0.003514</td>\n    </tr>\n    <tr>\n      <th>8</th>\n      <td>Job density at residence</td>\n      <td>darkgreen</td>\n      <td>0.006594</td>\n      <td>9.0</td>\n      <td>0.006398</td>\n    </tr>\n    <tr>\n      <th>9</th>\n      <td>Average displacement</td>\n      <td>coral</td>\n      <td>0.006176</td>\n      <td>10.0</td>\n      <td>0.004350</td>\n    </tr>\n    <tr>\n      <th>11</th>\n      <td>Pedestrian network density at residence</td>\n      <td>darkgreen</td>\n      <td>0.005957</td>\n      <td>12.0</td>\n      <td>0.004186</td>\n    </tr>\n  </tbody>\n</table>\n</div>"
     },
     "execution_count": 76,
     "metadata": {},
     "output_type": "execute_result"
    }
   ]
  },
  {
   "cell_type": "code",
   "execution_count": 77,
   "outputs": [],
   "source": [
    "df_f2plot.to_csv('results/ebm/feature_importance.csv', index=False)"
   ],
   "metadata": {
    "collapsed": false,
    "pycharm": {
     "name": "#%%\n"
    }
   }
  },
  {
   "cell_type": "code",
   "execution_count": null,
   "outputs": [],
   "source": [],
   "metadata": {
    "collapsed": false,
    "pycharm": {
     "name": "#%%\n"
    }
   }
  }
 ],
 "metadata": {
  "kernelspec": {
   "display_name": "Python 3",
   "language": "python",
   "name": "python3"
  },
  "language_info": {
   "codemirror_mode": {
    "name": "ipython",
    "version": 2
   },
   "file_extension": ".py",
   "mimetype": "text/x-python",
   "name": "python",
   "nbconvert_exporter": "python",
   "pygments_lexer": "ipython2",
   "version": "2.7.6"
  }
 },
 "nbformat": 4,
 "nbformat_minor": 0
}