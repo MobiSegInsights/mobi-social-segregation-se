{
 "cells": [
  {
   "cell_type": "markdown",
   "metadata": {
    "collapsed": true,
    "pycharm": {
     "name": "#%% md\n"
    }
   },
   "source": [
    "# Modeling the disparity between experienced and residential nativity segregation"
   ]
  },
  {
   "cell_type": "code",
   "execution_count": 1,
   "outputs": [
    {
     "name": "stdout",
     "output_type": "stream",
     "text": [
      "D:\\mobi-social-segregation-se\n"
     ]
    }
   ],
   "source": [
    "%load_ext autoreload\n",
    "%autoreload 2\n",
    "%cd D:\\mobi-social-segregation-se"
   ],
   "metadata": {
    "collapsed": false,
    "pycharm": {
     "name": "#%%\n"
    }
   }
  },
  {
   "cell_type": "code",
   "execution_count": 2,
   "outputs": [],
   "source": [
    "# Load libs\n",
    "import pandas as pd\n",
    "import os\n",
    "from scipy.stats import distributions\n",
    "import numpy as np\n",
    "from statsmodels.stats.weightstats import DescrStatsW\n",
    "import matplotlib.pyplot as plt\n",
    "import matplotlib as mpl\n",
    "from tqdm import tqdm\n",
    "import seaborn as sns"
   ],
   "metadata": {
    "collapsed": false,
    "pycharm": {
     "name": "#%%\n"
    }
   }
  },
  {
   "cell_type": "code",
   "execution_count": 5,
   "outputs": [],
   "source": [
    "mpl.rcParams.update(mpl.rcParamsDefault)\n",
    "mpl.style.use('seaborn-colorblind')\n",
    "font = {'size': 14}\n",
    "mpl.rc('font', **font)"
   ],
   "metadata": {
    "collapsed": false,
    "pycharm": {
     "name": "#%%\n"
    }
   }
  },
  {
   "cell_type": "code",
   "execution_count": 6,
   "outputs": [],
   "source": [
    "df_exp = pd.read_parquet('results/data4model_individual.parquet')\n",
    "df_exp = df_exp.loc[(df_exp['weekday'] == 1) & (df_exp['holiday'] == 0), :]"
   ],
   "metadata": {
    "collapsed": false,
    "pycharm": {
     "name": "#%%\n"
    }
   }
  },
  {
   "cell_type": "markdown",
   "source": [
    "## 1. Select variables"
   ],
   "metadata": {
    "collapsed": false,
    "pycharm": {
     "name": "#%% md\n"
    }
   }
  },
  {
   "cell_type": "code",
   "execution_count": 7,
   "outputs": [],
   "source": [
    "cols = ['uid', 'region', 'wt_p', 'Lowest income group',\n",
    "        'car_ownership', 'cum_jobs', 'cum_stops',\n",
    "        'ice_birth_resi', 'ice_birth']\n",
    "df_exp = df_exp[cols]"
   ],
   "metadata": {
    "collapsed": false,
    "pycharm": {
     "name": "#%%\n"
    }
   }
  },
  {
   "cell_type": "markdown",
   "source": [
    "### 1.1 Add labels of home regions (A, B, and C)\n",
    "A DeSO in category A is mostly outside major population concentrations or urban areas. DeSO in category B is mostly located in a population concentration or agglomeration, but not in the municipality's central location. Category C includes DeSO, which is mostly located in the municipality's central location. In total, 18 percent of DeSO are found in category A, 10 percent in category B and 72 percent in category C.\n",
    "\n",
    "Source: [SCB.se](https://www.scb.se/hitta-statistik/regional-statistik-och-kartor/regionala-indelningar/deso---demografiska-statistikomraden/)"
   ],
   "metadata": {
    "collapsed": false,
    "pycharm": {
     "name": "#%% md\n"
    }
   }
  },
  {
   "cell_type": "code",
   "execution_count": 8,
   "outputs": [],
   "source": [
    "df_exp['deso_2'] = df_exp['region'].apply(lambda x: x[0:2])\n",
    "df_exp['region_cat'] = df_exp['region'].apply(lambda x: x[4])"
   ],
   "metadata": {
    "collapsed": false,
    "pycharm": {
     "name": "#%%\n"
    }
   }
  },
  {
   "cell_type": "markdown",
   "source": [
    "## 2. Grouping segregation patterns"
   ],
   "metadata": {
    "collapsed": false,
    "pycharm": {
     "name": "#%% md\n"
    }
   }
  },
  {
   "cell_type": "code",
   "execution_count": 9,
   "outputs": [],
   "source": [
    "def seg_direction(row):\n",
    "    if row['ice_birth_resi'] < 0:\n",
    "        if row['ice_birth'] < 0:\n",
    "            return 'FF'\n",
    "        else:\n",
    "            return 'FD'\n",
    "    else:\n",
    "        if row['ice_birth'] < 0:\n",
    "            return 'DF'\n",
    "    return 'DD'\n",
    "\n",
    "def delta_ice(ice_r, ice_e):\n",
    "    if (ice_r < 0) & (ice_e < 0):\n",
    "        return -(ice_e - ice_r)\n",
    "    return ice_e - ice_r\n",
    "\n",
    "def seg_abs_direction(x):\n",
    "    if x >= 0:\n",
    "        return 'inc'\n",
    "    return 'dec'"
   ],
   "metadata": {
    "collapsed": false,
    "pycharm": {
     "name": "#%%\n"
    }
   }
  },
  {
   "cell_type": "code",
   "execution_count": 10,
   "outputs": [
    {
     "data": {
      "text/plain": "uid                    00008608-f79e-414d-bf1c-25632d6bc059\nregion                                            1284C1040\nwt_p                                              84.428571\nLowest income group                                0.088063\ncar_ownership                                      0.541455\ncum_jobs                                        4813.309325\ncum_stops                                               3.0\nice_birth_resi                                     0.324146\nice_birth                                          0.041918\ndeso_2                                                   12\nregion_cat                                                C\nseg_gap                                           -0.282228\nseg_cross                                                DD\nseg_change                                              dec\nName: 570844, dtype: object"
     },
     "execution_count": 10,
     "metadata": {},
     "output_type": "execute_result"
    }
   ],
   "source": [
    "df_exp['seg_gap'] = df_exp.apply(lambda row: delta_ice(row['ice_birth_resi'], row['ice_birth']), axis=1)\n",
    "df_exp['seg_cross'] = df_exp.apply(lambda row: seg_direction(row), axis=1)\n",
    "df_exp['seg_change'] = df_exp.apply(lambda row: seg_abs_direction(row['seg_gap']), axis=1)\n",
    "df_exp['seg_change'] = df_exp.apply(lambda row: 'cross' if row['seg_cross'] in ('DF', 'FD') else row['seg_change'],\n",
    "                                    axis=1)\n",
    "df_exp.iloc[0]"
   ],
   "metadata": {
    "collapsed": false,
    "pycharm": {
     "name": "#%%\n"
    }
   }
  },
  {
   "cell_type": "code",
   "execution_count": 16,
   "outputs": [],
   "source": [
    "df_exp.to_parquet(\"results/transport_association/seg_disparity_patterns.parquet\")"
   ],
   "metadata": {
    "collapsed": false,
    "pycharm": {
     "name": "#%%\n"
    }
   }
  },
  {
   "cell_type": "markdown",
   "source": [
    "### 2.1 Statistics of these groups"
   ],
   "metadata": {
    "collapsed": false,
    "pycharm": {
     "name": "#%% md\n"
    }
   }
  },
  {
   "cell_type": "code",
   "source": [
    "df_exp.groupby(['seg_cross', 'region_cat'])['wt_p'].sum() / df_exp.wt_p.sum() * 100"
   ],
   "metadata": {
    "collapsed": false,
    "pycharm": {
     "name": "#%%\n"
    }
   },
   "execution_count": 11,
   "outputs": [
    {
     "data": {
      "text/plain": "seg_cross  region_cat\nDD         A              8.127966\n           B              4.470961\n           C             19.642708\nDF         A              6.061887\n           B              2.961368\n           C             24.473024\nFD         A              0.011884\n           B              0.071990\n           C              0.984606\nFF         A              0.083013\n           B              1.199437\n           C             31.911157\nName: wt_p, dtype: float64"
     },
     "execution_count": 11,
     "metadata": {},
     "output_type": "execute_result"
    }
   ]
  },
  {
   "cell_type": "markdown",
   "source": [
    "## 3. Quantify segregation disparity"
   ],
   "metadata": {
    "collapsed": false,
    "pycharm": {
     "name": "#%% md\n"
    }
   }
  },
  {
   "cell_type": "markdown",
   "source": [
    "### 3.1 Calculate boxplot stats"
   ],
   "metadata": {
    "collapsed": false,
    "pycharm": {
     "name": "#%% md\n"
    }
   }
  },
  {
   "cell_type": "code",
   "execution_count": 12,
   "outputs": [],
   "source": [
    "def seg_grp_stats_com(data, var=None):\n",
    "    stat_dict = {'share': data.wt_p.sum() / df_exp.wt_p.sum() * 100}\n",
    "    wdf = DescrStatsW(data[var], weights=data['wt_p'], ddof=1)\n",
    "    sts = wdf.quantile([0.25,0.50,0.75])\n",
    "    q25 = sts.values[0]\n",
    "    q50 = sts.values[1]\n",
    "    q75 = sts.values[2]\n",
    "    stat_dict['mean'] = wdf.mean\n",
    "    stat_dict['q25'] = q25\n",
    "    stat_dict['q50'] = q50\n",
    "    stat_dict['q75'] = q75\n",
    "    stat_dict['var'] = var\n",
    "    return pd.Series(stat_dict)\n",
    "\n",
    "def stats_calculation(df=None, focus_thr=False):\n",
    "    if focus_thr:\n",
    "        df_exp = df.loc[df['deso_2'].isin(['01', '12', '14']), :]\n",
    "    else:\n",
    "        df_exp = df.copy()\n",
    "    list_df_seg = []\n",
    "    for var in ['Lowest income group', 'car_ownership', 'cum_jobs', 'cum_stops']:\n",
    "        list_df_seg.append(df_exp.groupby(['seg_cross', 'seg_change', 'region_cat']).\n",
    "                           apply(lambda x: seg_grp_stats_com(x, var)).\n",
    "                           reset_index())\n",
    "    df_seg = pd.concat(list_df_seg)\n",
    "    df_seg.loc[:, 'region_cat'] = df_seg['region_cat'].map({'A': 'Rural residents',\n",
    "                                                            'B': 'Suburban residents',\n",
    "                                                            'C': 'Urban residents'})\n",
    "    df_seg.loc[:, 'seg_change'] = df_seg['seg_change'].map({'inc': 'Increase',\n",
    "                                                            'dec': 'Decrease',\n",
    "                                                            'cross': 'Cross'})\n",
    "    if focus_thr:\n",
    "        df_seg.loc[:, 'focus'] = 'yes'\n",
    "    else:\n",
    "        df_seg.loc[:, 'focus'] = 'no'\n",
    "    return df_seg"
   ],
   "metadata": {
    "collapsed": false,
    "pycharm": {
     "name": "#%%\n"
    }
   }
  },
  {
   "cell_type": "code",
   "execution_count": 13,
   "outputs": [],
   "source": [
    "df_seg = pd.concat([stats_calculation(df=df_exp, focus_thr=False),\n",
    "                    stats_calculation(df=df_exp, focus_thr=True)])"
   ],
   "metadata": {
    "collapsed": false,
    "pycharm": {
     "name": "#%%\n"
    }
   }
  },
  {
   "cell_type": "code",
   "execution_count": 18,
   "outputs": [
    {
     "data": {
      "text/plain": "   seg_cross seg_change          region_cat      share        mean        q25  \\\n0         DD   Decrease     Rural residents   8.056738    0.210380   0.000000   \n1         DD   Decrease  Suburban residents   4.231991    0.194271   0.075000   \n2         DD   Decrease     Urban residents  18.317019    0.169147   0.078947   \n3         DD   Increase     Rural residents   0.071227    0.302991   0.125000   \n4         DD   Increase  Suburban residents   0.238969    0.261078   0.121212   \n..       ...        ...                 ...        ...         ...        ...   \n13        FF   Decrease  Suburban residents   0.090218   20.570029   6.000000   \n14        FF   Decrease     Urban residents   5.237716  119.392993  18.000000   \n15        FF   Increase     Rural residents   0.043086   18.492562  10.000000   \n16        FF   Increase  Suburban residents   0.426397   13.587079   6.000000   \n17        FF   Increase     Urban residents  15.365966   82.259773  16.000000   \n\n          q50        q75                  var focus  \n0    0.187500   0.321429  Lowest income group    no  \n1    0.168919   0.292683  Lowest income group    no  \n2    0.148855   0.238095  Lowest income group    no  \n3    0.299242   0.500000  Lowest income group    no  \n4    0.229508   0.363636  Lowest income group    no  \n..        ...        ...                  ...   ...  \n13  17.000000  23.000000            cum_stops   yes  \n14  29.000000  94.000000            cum_stops   yes  \n15  17.000000  26.000000            cum_stops   yes  \n16  11.000000  20.000000            cum_stops   yes  \n17  25.000000  48.000000            cum_stops   yes  \n\n[144 rows x 10 columns]",
      "text/html": "<div>\n<style scoped>\n    .dataframe tbody tr th:only-of-type {\n        vertical-align: middle;\n    }\n\n    .dataframe tbody tr th {\n        vertical-align: top;\n    }\n\n    .dataframe thead th {\n        text-align: right;\n    }\n</style>\n<table border=\"1\" class=\"dataframe\">\n  <thead>\n    <tr style=\"text-align: right;\">\n      <th></th>\n      <th>seg_cross</th>\n      <th>seg_change</th>\n      <th>region_cat</th>\n      <th>share</th>\n      <th>mean</th>\n      <th>q25</th>\n      <th>q50</th>\n      <th>q75</th>\n      <th>var</th>\n      <th>focus</th>\n    </tr>\n  </thead>\n  <tbody>\n    <tr>\n      <th>0</th>\n      <td>DD</td>\n      <td>Decrease</td>\n      <td>Rural residents</td>\n      <td>8.056738</td>\n      <td>0.210380</td>\n      <td>0.000000</td>\n      <td>0.187500</td>\n      <td>0.321429</td>\n      <td>Lowest income group</td>\n      <td>no</td>\n    </tr>\n    <tr>\n      <th>1</th>\n      <td>DD</td>\n      <td>Decrease</td>\n      <td>Suburban residents</td>\n      <td>4.231991</td>\n      <td>0.194271</td>\n      <td>0.075000</td>\n      <td>0.168919</td>\n      <td>0.292683</td>\n      <td>Lowest income group</td>\n      <td>no</td>\n    </tr>\n    <tr>\n      <th>2</th>\n      <td>DD</td>\n      <td>Decrease</td>\n      <td>Urban residents</td>\n      <td>18.317019</td>\n      <td>0.169147</td>\n      <td>0.078947</td>\n      <td>0.148855</td>\n      <td>0.238095</td>\n      <td>Lowest income group</td>\n      <td>no</td>\n    </tr>\n    <tr>\n      <th>3</th>\n      <td>DD</td>\n      <td>Increase</td>\n      <td>Rural residents</td>\n      <td>0.071227</td>\n      <td>0.302991</td>\n      <td>0.125000</td>\n      <td>0.299242</td>\n      <td>0.500000</td>\n      <td>Lowest income group</td>\n      <td>no</td>\n    </tr>\n    <tr>\n      <th>4</th>\n      <td>DD</td>\n      <td>Increase</td>\n      <td>Suburban residents</td>\n      <td>0.238969</td>\n      <td>0.261078</td>\n      <td>0.121212</td>\n      <td>0.229508</td>\n      <td>0.363636</td>\n      <td>Lowest income group</td>\n      <td>no</td>\n    </tr>\n    <tr>\n      <th>...</th>\n      <td>...</td>\n      <td>...</td>\n      <td>...</td>\n      <td>...</td>\n      <td>...</td>\n      <td>...</td>\n      <td>...</td>\n      <td>...</td>\n      <td>...</td>\n      <td>...</td>\n    </tr>\n    <tr>\n      <th>13</th>\n      <td>FF</td>\n      <td>Decrease</td>\n      <td>Suburban residents</td>\n      <td>0.090218</td>\n      <td>20.570029</td>\n      <td>6.000000</td>\n      <td>17.000000</td>\n      <td>23.000000</td>\n      <td>cum_stops</td>\n      <td>yes</td>\n    </tr>\n    <tr>\n      <th>14</th>\n      <td>FF</td>\n      <td>Decrease</td>\n      <td>Urban residents</td>\n      <td>5.237716</td>\n      <td>119.392993</td>\n      <td>18.000000</td>\n      <td>29.000000</td>\n      <td>94.000000</td>\n      <td>cum_stops</td>\n      <td>yes</td>\n    </tr>\n    <tr>\n      <th>15</th>\n      <td>FF</td>\n      <td>Increase</td>\n      <td>Rural residents</td>\n      <td>0.043086</td>\n      <td>18.492562</td>\n      <td>10.000000</td>\n      <td>17.000000</td>\n      <td>26.000000</td>\n      <td>cum_stops</td>\n      <td>yes</td>\n    </tr>\n    <tr>\n      <th>16</th>\n      <td>FF</td>\n      <td>Increase</td>\n      <td>Suburban residents</td>\n      <td>0.426397</td>\n      <td>13.587079</td>\n      <td>6.000000</td>\n      <td>11.000000</td>\n      <td>20.000000</td>\n      <td>cum_stops</td>\n      <td>yes</td>\n    </tr>\n    <tr>\n      <th>17</th>\n      <td>FF</td>\n      <td>Increase</td>\n      <td>Urban residents</td>\n      <td>15.365966</td>\n      <td>82.259773</td>\n      <td>16.000000</td>\n      <td>25.000000</td>\n      <td>48.000000</td>\n      <td>cum_stops</td>\n      <td>yes</td>\n    </tr>\n  </tbody>\n</table>\n<p>144 rows × 10 columns</p>\n</div>"
     },
     "execution_count": 18,
     "metadata": {},
     "output_type": "execute_result"
    }
   ],
   "source": [
    "df_seg.to_parquet('results/transport_association/seg_disarity_patterns_stats.parquet')\n",
    "df_seg"
   ],
   "metadata": {
    "collapsed": false,
    "pycharm": {
     "name": "#%%\n"
    }
   }
  },
  {
   "cell_type": "markdown",
   "source": [
    "### 3.2 Vislualization\n",
    "This part is done in `30-1-seg-disp-patterns-cat.R`."
   ],
   "metadata": {
    "collapsed": false,
    "pycharm": {
     "name": "#%% md\n"
    }
   }
  },
  {
   "cell_type": "markdown",
   "source": [
    "## 4. Weighted Mann–Whitney U test"
   ],
   "metadata": {
    "collapsed": false,
    "pycharm": {
     "name": "#%% md\n"
    }
   }
  },
  {
   "cell_type": "code",
   "execution_count": 16,
   "outputs": [],
   "source": [
    "from rpy2.robjects.packages import importr\n",
    "import rpy2.robjects as ro\n",
    "import rpy2.robjects.numpy2ri as rpyn\n",
    "r_weights = importr('survey')"
   ],
   "metadata": {
    "collapsed": false,
    "pycharm": {
     "name": "#%%\n"
    }
   }
  },
  {
   "cell_type": "code",
   "execution_count": 38,
   "outputs": [],
   "source": [
    "def wmu_test(data=None, region=None, grps=None, var=None, weight=None):\n",
    "    if len(grps) == 1:\n",
    "        data1 = data.loc[(data.region_cat == region) &\n",
    "                           (data.seg_cross == grps[0]) &\n",
    "                           (data.seg_change == 'dec'), [var, weight]]\n",
    "        data2 = data.loc[(data.region_cat == region) &\n",
    "                           (data.seg_cross == grps[0]) &\n",
    "                           (data.seg_change == 'inc'), [var, weight]]\n",
    "    else:\n",
    "        data1 = data.loc[(data.region_cat == region) &\n",
    "                           (data.seg_cross == grps[1]), [var, weight]]\n",
    "        data2 = data.loc[(data.region_cat == region) &\n",
    "                           (data.seg_cross == grps[0]), [var, weight]]\n",
    "    weights = np.concatenate([data1[weight].values, data2[weight].values])\n",
    "    group1 = data1[var].values\n",
    "    group2 = data2[var].values\n",
    "\n",
    "    ro.r.assign('group1', rpyn.numpy2rpy(group1))\n",
    "    ro.r.assign('group2', rpyn.numpy2rpy(group2))\n",
    "    ro.r.assign('weights', rpyn.numpy2rpy(weights))\n",
    "    ro.r('''data <- data.frame(group = c(group1, group2),\n",
    "                    group_indicator = rep(c(1, 2), c(length(group1), length(group2))))''')\n",
    "    ro.r('''design <- svydesign(ids = ~0, data = data, weights = ~weights)''')\n",
    "    ro.r('''result <- svyranktest(formula = group ~ group_indicator, design=design, test = \"wilcoxon\")''')\n",
    "    ro.r('''est <- unname(result$estimate)''')\n",
    "    ro.r('''pvalue <- unname(result$p.value)''')\n",
    "    est = ro.globalenv['est'][0]\n",
    "    pvalue = ro.globalenv['pvalue'][0]\n",
    "    return est, pvalue"
   ],
   "metadata": {
    "collapsed": false,
    "pycharm": {
     "name": "#%%\n"
    }
   }
  },
  {
   "cell_type": "code",
   "execution_count": 46,
   "outputs": [
    {
     "data": {
      "text/plain": "                    var          region_cat seg_cross              p sig  \\\n0   Lowest income group     Rural residents        DD   1.988216e-04   *   \n1   Lowest income group     Rural residents        DF   1.835285e-01   -   \n2   Lowest income group     Rural residents        FD   6.308765e-03   -   \n3   Lowest income group     Rural residents        FF   8.085682e-01   -   \n4   Lowest income group  Suburban residents        DD   6.309561e-10   *   \n5   Lowest income group  Suburban residents        DF   6.159356e-46   *   \n6   Lowest income group  Suburban residents        FD   7.452969e-03   -   \n7   Lowest income group  Suburban residents        FF   5.533845e-01   -   \n8   Lowest income group     Urban residents        DD   4.139494e-50   *   \n9   Lowest income group     Urban residents        DF   1.676484e-95   *   \n10  Lowest income group     Urban residents        FD   6.204287e-33   *   \n11  Lowest income group     Urban residents        FF  1.650748e-313   *   \n12        car_ownership     Rural residents        DD   7.063957e-01   -   \n13        car_ownership     Rural residents        DF   1.511035e-80   *   \n14        car_ownership     Rural residents        FD   2.971290e-26   *   \n15        car_ownership     Rural residents        FF   3.060938e-01   -   \n16        car_ownership  Suburban residents        DD   1.073088e-01   -   \n17        car_ownership  Suburban residents        DF   2.672030e-08   *   \n18        car_ownership  Suburban residents        FD   2.171611e-01   -   \n19        car_ownership  Suburban residents        FF   1.014978e-05   *   \n20        car_ownership     Urban residents        DD   2.457366e-10   *   \n21        car_ownership     Urban residents        DF   0.000000e+00   *   \n22        car_ownership     Urban residents        FD  3.279200e-101   *   \n23        car_ownership     Urban residents        FF   0.000000e+00   *   \n24             cum_jobs     Rural residents        DD   1.631183e-04   *   \n25             cum_jobs     Rural residents        DF   1.047325e-16   *   \n26             cum_jobs     Rural residents        FD   5.318276e-28   *   \n27             cum_jobs     Rural residents        FF   6.120569e-01   -   \n28             cum_jobs  Suburban residents        DD   8.616881e-19   *   \n29             cum_jobs  Suburban residents        DF   1.204303e-02   -   \n30             cum_jobs  Suburban residents        FD   3.401026e-01   -   \n31             cum_jobs  Suburban residents        FF   9.695557e-01   -   \n32             cum_jobs     Urban residents        DD   6.463260e-06   *   \n33             cum_jobs     Urban residents        DF  4.150151e-322   *   \n34             cum_jobs     Urban residents        FD   2.084596e-69   *   \n35             cum_jobs     Urban residents        FF   2.066534e-13   *   \n36            cum_stops     Rural residents        DD   6.537655e-01   -   \n37            cum_stops     Rural residents        DF   2.636602e-01   -   \n38            cum_stops     Rural residents        FD   6.249184e-19   *   \n39            cum_stops     Rural residents        FF   9.179582e-02   -   \n40            cum_stops  Suburban residents        DD   8.370642e-01   -   \n41            cum_stops  Suburban residents        DF   4.683098e-01   -   \n42            cum_stops  Suburban residents        FD   7.938264e-02   -   \n43            cum_stops  Suburban residents        FF   8.493631e-13   *   \n44            cum_stops     Urban residents        DD   9.209406e-01   -   \n45            cum_stops     Urban residents        DF  1.579674e-186   *   \n46            cum_stops     Urban residents        FD   2.953388e-07   *   \n47            cum_stops     Urban residents        FF   6.131904e-31   *   \n\n    difference in mean rank score  \n0                        0.116499  \n1                        0.004824  \n2                       -0.177649  \n3                       -0.015457  \n4                        0.091217  \n5                        0.076626  \n6                       -0.069051  \n7                       -0.008221  \n8                        0.111313  \n9                        0.048970  \n10                      -0.075646  \n11                      -0.095500  \n12                       0.014497  \n13                      -0.072027  \n14                       0.330252  \n15                       0.082440  \n16                      -0.022707  \n17                      -0.030967  \n18                       0.027612  \n19                       0.062749  \n20                      -0.040064  \n21                      -0.112456  \n22                       0.142733  \n23                       0.140782  \n24                      -0.117695  \n25                       0.031456  \n26                      -0.375559  \n27                      -0.042637  \n28                      -0.123513  \n29                      -0.014045  \n30                      -0.030667  \n31                       0.000574  \n32                      -0.029886  \n33                       0.089327  \n34                      -0.123426  \n35                      -0.017921  \n36                      -0.012388  \n37                       0.004132  \n38                      -0.375467  \n39                       0.102063  \n40                      -0.002824  \n41                       0.003938  \n42                      -0.044330  \n43                      -0.108333  \n44                      -0.000637  \n45                       0.069721  \n46                      -0.036201  \n47                      -0.029078  ",
      "text/html": "<div>\n<style scoped>\n    .dataframe tbody tr th:only-of-type {\n        vertical-align: middle;\n    }\n\n    .dataframe tbody tr th {\n        vertical-align: top;\n    }\n\n    .dataframe thead th {\n        text-align: right;\n    }\n</style>\n<table border=\"1\" class=\"dataframe\">\n  <thead>\n    <tr style=\"text-align: right;\">\n      <th></th>\n      <th>var</th>\n      <th>region_cat</th>\n      <th>seg_cross</th>\n      <th>p</th>\n      <th>sig</th>\n      <th>difference in mean rank score</th>\n    </tr>\n  </thead>\n  <tbody>\n    <tr>\n      <th>0</th>\n      <td>Lowest income group</td>\n      <td>Rural residents</td>\n      <td>DD</td>\n      <td>1.988216e-04</td>\n      <td>*</td>\n      <td>0.116499</td>\n    </tr>\n    <tr>\n      <th>1</th>\n      <td>Lowest income group</td>\n      <td>Rural residents</td>\n      <td>DF</td>\n      <td>1.835285e-01</td>\n      <td>-</td>\n      <td>0.004824</td>\n    </tr>\n    <tr>\n      <th>2</th>\n      <td>Lowest income group</td>\n      <td>Rural residents</td>\n      <td>FD</td>\n      <td>6.308765e-03</td>\n      <td>-</td>\n      <td>-0.177649</td>\n    </tr>\n    <tr>\n      <th>3</th>\n      <td>Lowest income group</td>\n      <td>Rural residents</td>\n      <td>FF</td>\n      <td>8.085682e-01</td>\n      <td>-</td>\n      <td>-0.015457</td>\n    </tr>\n    <tr>\n      <th>4</th>\n      <td>Lowest income group</td>\n      <td>Suburban residents</td>\n      <td>DD</td>\n      <td>6.309561e-10</td>\n      <td>*</td>\n      <td>0.091217</td>\n    </tr>\n    <tr>\n      <th>5</th>\n      <td>Lowest income group</td>\n      <td>Suburban residents</td>\n      <td>DF</td>\n      <td>6.159356e-46</td>\n      <td>*</td>\n      <td>0.076626</td>\n    </tr>\n    <tr>\n      <th>6</th>\n      <td>Lowest income group</td>\n      <td>Suburban residents</td>\n      <td>FD</td>\n      <td>7.452969e-03</td>\n      <td>-</td>\n      <td>-0.069051</td>\n    </tr>\n    <tr>\n      <th>7</th>\n      <td>Lowest income group</td>\n      <td>Suburban residents</td>\n      <td>FF</td>\n      <td>5.533845e-01</td>\n      <td>-</td>\n      <td>-0.008221</td>\n    </tr>\n    <tr>\n      <th>8</th>\n      <td>Lowest income group</td>\n      <td>Urban residents</td>\n      <td>DD</td>\n      <td>4.139494e-50</td>\n      <td>*</td>\n      <td>0.111313</td>\n    </tr>\n    <tr>\n      <th>9</th>\n      <td>Lowest income group</td>\n      <td>Urban residents</td>\n      <td>DF</td>\n      <td>1.676484e-95</td>\n      <td>*</td>\n      <td>0.048970</td>\n    </tr>\n    <tr>\n      <th>10</th>\n      <td>Lowest income group</td>\n      <td>Urban residents</td>\n      <td>FD</td>\n      <td>6.204287e-33</td>\n      <td>*</td>\n      <td>-0.075646</td>\n    </tr>\n    <tr>\n      <th>11</th>\n      <td>Lowest income group</td>\n      <td>Urban residents</td>\n      <td>FF</td>\n      <td>1.650748e-313</td>\n      <td>*</td>\n      <td>-0.095500</td>\n    </tr>\n    <tr>\n      <th>12</th>\n      <td>car_ownership</td>\n      <td>Rural residents</td>\n      <td>DD</td>\n      <td>7.063957e-01</td>\n      <td>-</td>\n      <td>0.014497</td>\n    </tr>\n    <tr>\n      <th>13</th>\n      <td>car_ownership</td>\n      <td>Rural residents</td>\n      <td>DF</td>\n      <td>1.511035e-80</td>\n      <td>*</td>\n      <td>-0.072027</td>\n    </tr>\n    <tr>\n      <th>14</th>\n      <td>car_ownership</td>\n      <td>Rural residents</td>\n      <td>FD</td>\n      <td>2.971290e-26</td>\n      <td>*</td>\n      <td>0.330252</td>\n    </tr>\n    <tr>\n      <th>15</th>\n      <td>car_ownership</td>\n      <td>Rural residents</td>\n      <td>FF</td>\n      <td>3.060938e-01</td>\n      <td>-</td>\n      <td>0.082440</td>\n    </tr>\n    <tr>\n      <th>16</th>\n      <td>car_ownership</td>\n      <td>Suburban residents</td>\n      <td>DD</td>\n      <td>1.073088e-01</td>\n      <td>-</td>\n      <td>-0.022707</td>\n    </tr>\n    <tr>\n      <th>17</th>\n      <td>car_ownership</td>\n      <td>Suburban residents</td>\n      <td>DF</td>\n      <td>2.672030e-08</td>\n      <td>*</td>\n      <td>-0.030967</td>\n    </tr>\n    <tr>\n      <th>18</th>\n      <td>car_ownership</td>\n      <td>Suburban residents</td>\n      <td>FD</td>\n      <td>2.171611e-01</td>\n      <td>-</td>\n      <td>0.027612</td>\n    </tr>\n    <tr>\n      <th>19</th>\n      <td>car_ownership</td>\n      <td>Suburban residents</td>\n      <td>FF</td>\n      <td>1.014978e-05</td>\n      <td>*</td>\n      <td>0.062749</td>\n    </tr>\n    <tr>\n      <th>20</th>\n      <td>car_ownership</td>\n      <td>Urban residents</td>\n      <td>DD</td>\n      <td>2.457366e-10</td>\n      <td>*</td>\n      <td>-0.040064</td>\n    </tr>\n    <tr>\n      <th>21</th>\n      <td>car_ownership</td>\n      <td>Urban residents</td>\n      <td>DF</td>\n      <td>0.000000e+00</td>\n      <td>*</td>\n      <td>-0.112456</td>\n    </tr>\n    <tr>\n      <th>22</th>\n      <td>car_ownership</td>\n      <td>Urban residents</td>\n      <td>FD</td>\n      <td>3.279200e-101</td>\n      <td>*</td>\n      <td>0.142733</td>\n    </tr>\n    <tr>\n      <th>23</th>\n      <td>car_ownership</td>\n      <td>Urban residents</td>\n      <td>FF</td>\n      <td>0.000000e+00</td>\n      <td>*</td>\n      <td>0.140782</td>\n    </tr>\n    <tr>\n      <th>24</th>\n      <td>cum_jobs</td>\n      <td>Rural residents</td>\n      <td>DD</td>\n      <td>1.631183e-04</td>\n      <td>*</td>\n      <td>-0.117695</td>\n    </tr>\n    <tr>\n      <th>25</th>\n      <td>cum_jobs</td>\n      <td>Rural residents</td>\n      <td>DF</td>\n      <td>1.047325e-16</td>\n      <td>*</td>\n      <td>0.031456</td>\n    </tr>\n    <tr>\n      <th>26</th>\n      <td>cum_jobs</td>\n      <td>Rural residents</td>\n      <td>FD</td>\n      <td>5.318276e-28</td>\n      <td>*</td>\n      <td>-0.375559</td>\n    </tr>\n    <tr>\n      <th>27</th>\n      <td>cum_jobs</td>\n      <td>Rural residents</td>\n      <td>FF</td>\n      <td>6.120569e-01</td>\n      <td>-</td>\n      <td>-0.042637</td>\n    </tr>\n    <tr>\n      <th>28</th>\n      <td>cum_jobs</td>\n      <td>Suburban residents</td>\n      <td>DD</td>\n      <td>8.616881e-19</td>\n      <td>*</td>\n      <td>-0.123513</td>\n    </tr>\n    <tr>\n      <th>29</th>\n      <td>cum_jobs</td>\n      <td>Suburban residents</td>\n      <td>DF</td>\n      <td>1.204303e-02</td>\n      <td>-</td>\n      <td>-0.014045</td>\n    </tr>\n    <tr>\n      <th>30</th>\n      <td>cum_jobs</td>\n      <td>Suburban residents</td>\n      <td>FD</td>\n      <td>3.401026e-01</td>\n      <td>-</td>\n      <td>-0.030667</td>\n    </tr>\n    <tr>\n      <th>31</th>\n      <td>cum_jobs</td>\n      <td>Suburban residents</td>\n      <td>FF</td>\n      <td>9.695557e-01</td>\n      <td>-</td>\n      <td>0.000574</td>\n    </tr>\n    <tr>\n      <th>32</th>\n      <td>cum_jobs</td>\n      <td>Urban residents</td>\n      <td>DD</td>\n      <td>6.463260e-06</td>\n      <td>*</td>\n      <td>-0.029886</td>\n    </tr>\n    <tr>\n      <th>33</th>\n      <td>cum_jobs</td>\n      <td>Urban residents</td>\n      <td>DF</td>\n      <td>4.150151e-322</td>\n      <td>*</td>\n      <td>0.089327</td>\n    </tr>\n    <tr>\n      <th>34</th>\n      <td>cum_jobs</td>\n      <td>Urban residents</td>\n      <td>FD</td>\n      <td>2.084596e-69</td>\n      <td>*</td>\n      <td>-0.123426</td>\n    </tr>\n    <tr>\n      <th>35</th>\n      <td>cum_jobs</td>\n      <td>Urban residents</td>\n      <td>FF</td>\n      <td>2.066534e-13</td>\n      <td>*</td>\n      <td>-0.017921</td>\n    </tr>\n    <tr>\n      <th>36</th>\n      <td>cum_stops</td>\n      <td>Rural residents</td>\n      <td>DD</td>\n      <td>6.537655e-01</td>\n      <td>-</td>\n      <td>-0.012388</td>\n    </tr>\n    <tr>\n      <th>37</th>\n      <td>cum_stops</td>\n      <td>Rural residents</td>\n      <td>DF</td>\n      <td>2.636602e-01</td>\n      <td>-</td>\n      <td>0.004132</td>\n    </tr>\n    <tr>\n      <th>38</th>\n      <td>cum_stops</td>\n      <td>Rural residents</td>\n      <td>FD</td>\n      <td>6.249184e-19</td>\n      <td>*</td>\n      <td>-0.375467</td>\n    </tr>\n    <tr>\n      <th>39</th>\n      <td>cum_stops</td>\n      <td>Rural residents</td>\n      <td>FF</td>\n      <td>9.179582e-02</td>\n      <td>-</td>\n      <td>0.102063</td>\n    </tr>\n    <tr>\n      <th>40</th>\n      <td>cum_stops</td>\n      <td>Suburban residents</td>\n      <td>DD</td>\n      <td>8.370642e-01</td>\n      <td>-</td>\n      <td>-0.002824</td>\n    </tr>\n    <tr>\n      <th>41</th>\n      <td>cum_stops</td>\n      <td>Suburban residents</td>\n      <td>DF</td>\n      <td>4.683098e-01</td>\n      <td>-</td>\n      <td>0.003938</td>\n    </tr>\n    <tr>\n      <th>42</th>\n      <td>cum_stops</td>\n      <td>Suburban residents</td>\n      <td>FD</td>\n      <td>7.938264e-02</td>\n      <td>-</td>\n      <td>-0.044330</td>\n    </tr>\n    <tr>\n      <th>43</th>\n      <td>cum_stops</td>\n      <td>Suburban residents</td>\n      <td>FF</td>\n      <td>8.493631e-13</td>\n      <td>*</td>\n      <td>-0.108333</td>\n    </tr>\n    <tr>\n      <th>44</th>\n      <td>cum_stops</td>\n      <td>Urban residents</td>\n      <td>DD</td>\n      <td>9.209406e-01</td>\n      <td>-</td>\n      <td>-0.000637</td>\n    </tr>\n    <tr>\n      <th>45</th>\n      <td>cum_stops</td>\n      <td>Urban residents</td>\n      <td>DF</td>\n      <td>1.579674e-186</td>\n      <td>*</td>\n      <td>0.069721</td>\n    </tr>\n    <tr>\n      <th>46</th>\n      <td>cum_stops</td>\n      <td>Urban residents</td>\n      <td>FD</td>\n      <td>2.953388e-07</td>\n      <td>*</td>\n      <td>-0.036201</td>\n    </tr>\n    <tr>\n      <th>47</th>\n      <td>cum_stops</td>\n      <td>Urban residents</td>\n      <td>FF</td>\n      <td>6.131904e-31</td>\n      <td>*</td>\n      <td>-0.029078</td>\n    </tr>\n  </tbody>\n</table>\n</div>"
     },
     "execution_count": 46,
     "metadata": {},
     "output_type": "execute_result"
    }
   ],
   "source": [
    "weight = 'wt_p'\n",
    "res_list = []\n",
    "for var in ['Lowest income group', 'car_ownership', 'cum_jobs', 'cum_stops']:\n",
    "    for rg in ['A', 'B', 'C']:\n",
    "        for grp in [['DD'], ['DF', 'DD'], ['FD', 'FF'], ['FF']]:\n",
    "            est, pvalue = wmu_test(data=df_exp, region=rg, grps=grp, var=var, weight=weight)\n",
    "            grp_type = grp[0]\n",
    "            if pvalue > 0.001:\n",
    "                sig = '-'\n",
    "            else:\n",
    "                sig = '*'\n",
    "            res_list.append((var, rg, grp_type, pvalue, sig, est))\n",
    "df_res = pd.DataFrame(res_list, columns=['var', 'region_cat', 'seg_cross', 'p', 'sig', 'difference in mean rank score'])\n",
    "df_res.loc[:, 'region_cat'] = df_res['region_cat'].map({'A': 'Rural residents',\n",
    "                                                        'B': 'Suburban residents',\n",
    "                                                        'C': 'Urban residents'})\n",
    "df_res"
   ],
   "metadata": {
    "collapsed": false,
    "pycharm": {
     "name": "#%%\n"
    }
   }
  },
  {
   "cell_type": "code",
   "execution_count": 40,
   "outputs": [],
   "source": [
    "df_res.to_clipboard(index=False)"
   ],
   "metadata": {
    "collapsed": false,
    "pycharm": {
     "name": "#%%\n"
    }
   }
  },
  {
   "cell_type": "code",
   "execution_count": 47,
   "outputs": [],
   "source": [
    "df_res.to_parquet('results/transport_association/stats_test.parquet')"
   ],
   "metadata": {
    "collapsed": false,
    "pycharm": {
     "name": "#%%\n"
    }
   }
  },
  {
   "cell_type": "code",
   "execution_count": null,
   "outputs": [],
   "source": [],
   "metadata": {
    "collapsed": false,
    "pycharm": {
     "name": "#%%\n"
    }
   }
  }
 ],
 "metadata": {
  "kernelspec": {
   "display_name": "Python 3",
   "language": "python",
   "name": "python3"
  },
  "language_info": {
   "codemirror_mode": {
    "name": "ipython",
    "version": 2
   },
   "file_extension": ".py",
   "mimetype": "text/x-python",
   "name": "python",
   "nbconvert_exporter": "python",
   "pygments_lexer": "ipython2",
   "version": "2.7.6"
  }
 },
 "nbformat": 4,
 "nbformat_minor": 0
}